{
 "cells": [
  {
   "cell_type": "markdown",
   "metadata": {
    "slideshow": {
     "slide_type": "-"
    }
   },
   "source": [
    "# Task Desription\n",
    "\n",
    "Please read first the following abstract\n",
    "\n",
    "## Abstract\n",
    "                \n",
    "RNA-Seq reveals an unprecedented complexity of the neuroblastoma transcriptome and is suitable for clinical endpoint prediction [ microarray ]\n",
    "\n",
    "### Experiment Description  \n",
    "\n",
    "We generated gene expression profiles from 498 primary neuroblastomas using RNA-Seq and microarrays. We sought to systematically evaluate the capability of RNA deep-sequencing (RNA-Seq)-based classification for clinical endpoint prediction in comparison to microarray-based ones. The neuroblastoma cohort was randomly divided into training and validation sets (**Please note:** <em>in the following we refer to this validation set as test set</em>), and 360 predictive models on six clinical endpoints were generated and evaluated. While prediction performances did not differ considerably between the two technical platforms, the RNA-Seq data processing pipelines, or feature levels (i.e., gene, transcript, and exon junction levels), RNA-Seq models based on the AceView database performed best on most endpoints. Collectively, our study reveals an unprecedented complexity of the neuroblastoma transcriptome, and provides guidelines for the development of gene expression-based predictive classifiers using high-throughput technologies.  Sample clinical characteristics definitions:  \n",
    "\n",
    "* sex: \n",
    "    <ul>\n",
    "    <li>M = male</li>\n",
    "    <li>F = female</li>\n",
    "    </ul>\n",
    "    \n",
    "* age at diagnosis: The age in days at diagnosis \n",
    "    <ul>\n",
    "    <li>integer</li>\n",
    "    </ul>\n",
    "\n",
    "* high risk: Clinically considered as high-risk neuroblastoma\n",
    "    <ul>\n",
    "    <li>yes = 1</li>\n",
    "    <li>no = 0</li>\n",
    "    </ul>\n",
    "\n",
    "\n",
    "* INSS stage: Disease stage according to International Neuroblastoma Staging System ([INSS](https://www.cancer.org/cancer/neuroblastoma/detection-diagnosis-staging/staging.html)) \n",
    "    <ul>\n",
    "    <li>1</li>\n",
    "    <li>2</li>\n",
    "    <li>3</li>\n",
    "    <li>4</li>\n",
    "    <li>4S</li>\n",
    "    </ul>\n",
    "\n",
    "\n",
    "* progression: Occurrence of a tumor progression event\n",
    "    <ul>\n",
    "    <li>yes = 1</li>\n",
    "    <li>no = 0</li>\n",
    "    </ul>\n",
    "\n",
    "\n",
    "\n",
    "* death from disease: Occurrence of death from the disease (yes=1; no=0) \n",
    "    <ul>\n",
    "    <li>yes = 1</li>\n",
    "    <li>no = 0</li>\n",
    "    </ul>\n",
    "\n",
    "\n",
    "\n",
    "\n",
    "\n",
    "Gene expression of 498 neuroblastoma samples was quantified by RNA sequencing as well as by microarray analyses in order to understand the neuroblastoma transcriptome and predict clinical endpoints. \n",
    "\n",
    "\n",
    "## Task\n",
    "\n",
    "The task is to predict the missing values in the validation set (from here on called test set). Do this either with the RNASeq or the Microarray data, or potentially both?\n",
    "\n"
   ]
  },
  {
   "cell_type": "markdown",
   "metadata": {},
   "source": [
    "## Code\n",
    "\n",
    "To make your start a bit easier, here is a small notebook reading the data in. It finishes with a function enabling you to save your predictions for submission. \n",
    "\n",
    "#### from here, the code starts\n",
    "\n",
    "First some imports "
   ]
  },
  {
   "cell_type": "code",
   "execution_count": 1,
   "metadata": {},
   "outputs": [],
   "source": [
    "import pandas as pd\n",
    "import numpy as np\n",
    "\n",
    "import matplotlib.pyplot as plt # plotting and visulisation\n",
    "import seaborn as sns # nicer (easier) visualisation\n",
    "%matplotlib inline\n",
    "\n",
    "\n",
    "# for saving\n",
    "import os,os.path"
   ]
  },
  {
   "cell_type": "markdown",
   "metadata": {},
   "source": [
    "### Setting  up directory and filenames"
   ]
  },
  {
   "cell_type": "code",
   "execution_count": 2,
   "metadata": {},
   "outputs": [],
   "source": [
    "data_dir = '..{}data'.format(os.path.sep)\n",
    "\n",
    "fn_fpkm             = 'log2FPKM.tsv'\n",
    "fn_patient_info     = 'patientInfo.tsv'\n",
    "fn_prop_intensities = 'allProbIntensities.tsv'\n"
   ]
  },
  {
   "cell_type": "markdown",
   "metadata": {},
   "source": [
    "### Load the RNA-Seq data\n",
    "\n",
    "This part already sets the indeces in the DataFrame. Please feel free to change as required. "
   ]
  },
  {
   "cell_type": "code",
   "execution_count": 3,
   "metadata": {},
   "outputs": [
    {
     "data": {
      "text/html": [
       "<div>\n",
       "<style scoped>\n",
       "    .dataframe tbody tr th:only-of-type {\n",
       "        vertical-align: middle;\n",
       "    }\n",
       "\n",
       "    .dataframe tbody tr th {\n",
       "        vertical-align: top;\n",
       "    }\n",
       "\n",
       "    .dataframe thead th {\n",
       "        text-align: right;\n",
       "    }\n",
       "</style>\n",
       "<table border=\"1\" class=\"dataframe\">\n",
       "  <thead>\n",
       "    <tr style=\"text-align: right;\">\n",
       "      <th>ID</th>\n",
       "      <th>NB001</th>\n",
       "      <th>NB002</th>\n",
       "      <th>NB003</th>\n",
       "      <th>NB004</th>\n",
       "      <th>NB005</th>\n",
       "      <th>NB006</th>\n",
       "      <th>NB007</th>\n",
       "      <th>NB008</th>\n",
       "      <th>NB009</th>\n",
       "      <th>NB010</th>\n",
       "      <th>...</th>\n",
       "      <th>NB489</th>\n",
       "      <th>NB490</th>\n",
       "      <th>NB491</th>\n",
       "      <th>NB492</th>\n",
       "      <th>NB493</th>\n",
       "      <th>NB494</th>\n",
       "      <th>NB495</th>\n",
       "      <th>NB496</th>\n",
       "      <th>NB497</th>\n",
       "      <th>NB498</th>\n",
       "    </tr>\n",
       "    <tr>\n",
       "      <th>gene_id</th>\n",
       "      <th></th>\n",
       "      <th></th>\n",
       "      <th></th>\n",
       "      <th></th>\n",
       "      <th></th>\n",
       "      <th></th>\n",
       "      <th></th>\n",
       "      <th></th>\n",
       "      <th></th>\n",
       "      <th></th>\n",
       "      <th></th>\n",
       "      <th></th>\n",
       "      <th></th>\n",
       "      <th></th>\n",
       "      <th></th>\n",
       "      <th></th>\n",
       "      <th></th>\n",
       "      <th></th>\n",
       "      <th></th>\n",
       "      <th></th>\n",
       "      <th></th>\n",
       "    </tr>\n",
       "  </thead>\n",
       "  <tbody>\n",
       "    <tr>\n",
       "      <th>1/2-SBSRNA4</th>\n",
       "      <td>0.834381</td>\n",
       "      <td>0.743094</td>\n",
       "      <td>0.909414</td>\n",
       "      <td>0.795775</td>\n",
       "      <td>0.905540</td>\n",
       "      <td>0.869154</td>\n",
       "      <td>1.811352</td>\n",
       "      <td>0.599240</td>\n",
       "      <td>0.981855</td>\n",
       "      <td>1.066399</td>\n",
       "      <td>...</td>\n",
       "      <td>0.997977</td>\n",
       "      <td>1.003559</td>\n",
       "      <td>0.842437</td>\n",
       "      <td>1.057873</td>\n",
       "      <td>0.805515</td>\n",
       "      <td>0.491331</td>\n",
       "      <td>0.868249</td>\n",
       "      <td>0.911379</td>\n",
       "      <td>0.660139</td>\n",
       "      <td>1.152988</td>\n",
       "    </tr>\n",
       "    <tr>\n",
       "      <th>A1BG</th>\n",
       "      <td>1.910053</td>\n",
       "      <td>0.941996</td>\n",
       "      <td>1.950857</td>\n",
       "      <td>1.989477</td>\n",
       "      <td>1.942946</td>\n",
       "      <td>1.927608</td>\n",
       "      <td>1.617745</td>\n",
       "      <td>2.161291</td>\n",
       "      <td>1.436439</td>\n",
       "      <td>2.159797</td>\n",
       "      <td>...</td>\n",
       "      <td>2.336929</td>\n",
       "      <td>2.836360</td>\n",
       "      <td>1.205317</td>\n",
       "      <td>2.439868</td>\n",
       "      <td>1.649027</td>\n",
       "      <td>1.451425</td>\n",
       "      <td>1.493852</td>\n",
       "      <td>1.641241</td>\n",
       "      <td>1.994978</td>\n",
       "      <td>1.289534</td>\n",
       "    </tr>\n",
       "    <tr>\n",
       "      <th>A1BG-AS1</th>\n",
       "      <td>1.453191</td>\n",
       "      <td>0.640614</td>\n",
       "      <td>1.156765</td>\n",
       "      <td>1.525277</td>\n",
       "      <td>1.365043</td>\n",
       "      <td>0.899212</td>\n",
       "      <td>1.304178</td>\n",
       "      <td>1.189205</td>\n",
       "      <td>0.771248</td>\n",
       "      <td>1.114787</td>\n",
       "      <td>...</td>\n",
       "      <td>1.182908</td>\n",
       "      <td>1.367371</td>\n",
       "      <td>0.643751</td>\n",
       "      <td>1.096815</td>\n",
       "      <td>0.925425</td>\n",
       "      <td>0.933275</td>\n",
       "      <td>1.208723</td>\n",
       "      <td>0.904511</td>\n",
       "      <td>1.529221</td>\n",
       "      <td>1.102866</td>\n",
       "    </tr>\n",
       "    <tr>\n",
       "      <th>A1CF</th>\n",
       "      <td>0.005102</td>\n",
       "      <td>0.005902</td>\n",
       "      <td>0.005192</td>\n",
       "      <td>0.000000</td>\n",
       "      <td>0.025347</td>\n",
       "      <td>0.005682</td>\n",
       "      <td>0.000000</td>\n",
       "      <td>0.000000</td>\n",
       "      <td>0.021880</td>\n",
       "      <td>0.000000</td>\n",
       "      <td>...</td>\n",
       "      <td>0.024298</td>\n",
       "      <td>0.007295</td>\n",
       "      <td>0.000000</td>\n",
       "      <td>0.006678</td>\n",
       "      <td>0.005746</td>\n",
       "      <td>0.004998</td>\n",
       "      <td>0.004853</td>\n",
       "      <td>0.000000</td>\n",
       "      <td>0.022780</td>\n",
       "      <td>0.018720</td>\n",
       "    </tr>\n",
       "    <tr>\n",
       "      <th>A2LD1</th>\n",
       "      <td>0.580151</td>\n",
       "      <td>0.738233</td>\n",
       "      <td>0.927667</td>\n",
       "      <td>0.936497</td>\n",
       "      <td>0.924853</td>\n",
       "      <td>0.739038</td>\n",
       "      <td>1.018705</td>\n",
       "      <td>0.546324</td>\n",
       "      <td>0.666877</td>\n",
       "      <td>0.865850</td>\n",
       "      <td>...</td>\n",
       "      <td>0.673627</td>\n",
       "      <td>1.401265</td>\n",
       "      <td>0.837443</td>\n",
       "      <td>0.939849</td>\n",
       "      <td>0.743496</td>\n",
       "      <td>0.957837</td>\n",
       "      <td>0.812093</td>\n",
       "      <td>0.488748</td>\n",
       "      <td>1.068072</td>\n",
       "      <td>0.782887</td>\n",
       "    </tr>\n",
       "  </tbody>\n",
       "</table>\n",
       "<p>5 rows × 498 columns</p>\n",
       "</div>"
      ],
      "text/plain": [
       "ID              NB001     NB002     NB003     NB004     NB005     NB006  \\\n",
       "gene_id                                                                   \n",
       "1/2-SBSRNA4  0.834381  0.743094  0.909414  0.795775  0.905540  0.869154   \n",
       "A1BG         1.910053  0.941996  1.950857  1.989477  1.942946  1.927608   \n",
       "A1BG-AS1     1.453191  0.640614  1.156765  1.525277  1.365043  0.899212   \n",
       "A1CF         0.005102  0.005902  0.005192  0.000000  0.025347  0.005682   \n",
       "A2LD1        0.580151  0.738233  0.927667  0.936497  0.924853  0.739038   \n",
       "\n",
       "ID              NB007     NB008     NB009     NB010  ...     NB489     NB490  \\\n",
       "gene_id                                              ...                       \n",
       "1/2-SBSRNA4  1.811352  0.599240  0.981855  1.066399  ...  0.997977  1.003559   \n",
       "A1BG         1.617745  2.161291  1.436439  2.159797  ...  2.336929  2.836360   \n",
       "A1BG-AS1     1.304178  1.189205  0.771248  1.114787  ...  1.182908  1.367371   \n",
       "A1CF         0.000000  0.000000  0.021880  0.000000  ...  0.024298  0.007295   \n",
       "A2LD1        1.018705  0.546324  0.666877  0.865850  ...  0.673627  1.401265   \n",
       "\n",
       "ID              NB491     NB492     NB493     NB494     NB495     NB496  \\\n",
       "gene_id                                                                   \n",
       "1/2-SBSRNA4  0.842437  1.057873  0.805515  0.491331  0.868249  0.911379   \n",
       "A1BG         1.205317  2.439868  1.649027  1.451425  1.493852  1.641241   \n",
       "A1BG-AS1     0.643751  1.096815  0.925425  0.933275  1.208723  0.904511   \n",
       "A1CF         0.000000  0.006678  0.005746  0.004998  0.004853  0.000000   \n",
       "A2LD1        0.837443  0.939849  0.743496  0.957837  0.812093  0.488748   \n",
       "\n",
       "ID              NB497     NB498  \n",
       "gene_id                          \n",
       "1/2-SBSRNA4  0.660139  1.152988  \n",
       "A1BG         1.994978  1.289534  \n",
       "A1BG-AS1     1.529221  1.102866  \n",
       "A1CF         0.022780  0.018720  \n",
       "A2LD1        1.068072  0.782887  \n",
       "\n",
       "[5 rows x 498 columns]"
      ]
     },
     "execution_count": 3,
     "metadata": {},
     "output_type": "execute_result"
    }
   ],
   "source": [
    "df_fpkm = pd.read_csv('{}/{}'.format(data_dir,fn_fpkm),sep='\\t',).rename({'00gene_id':'gene_id'},axis=1)\n",
    "df_fpkm = df_fpkm.set_index(['gene_id'])\n",
    "df_fpkm.columns.name = 'ID'\n",
    "df_fpkm.head()"
   ]
  },
  {
   "cell_type": "code",
   "execution_count": 4,
   "metadata": {},
   "outputs": [],
   "source": [
    "#List patient ID\n",
    "mylist=list(df_fpkm)\n",
    "#mylist"
   ]
  },
  {
   "cell_type": "code",
   "execution_count": 5,
   "metadata": {},
   "outputs": [],
   "source": [
    "#Keep the \n",
    "myL=[]\n",
    "for char in mylist:\n",
    "    g = char[:5]\n",
    "    myL.append(g)\n",
    "    #print(g) \n",
    "    \n",
    "    "
   ]
  },
  {
   "cell_type": "code",
   "execution_count": 6,
   "metadata": {},
   "outputs": [
    {
     "data": {
      "text/html": [
       "<div>\n",
       "<style scoped>\n",
       "    .dataframe tbody tr th:only-of-type {\n",
       "        vertical-align: middle;\n",
       "    }\n",
       "\n",
       "    .dataframe tbody tr th {\n",
       "        vertical-align: top;\n",
       "    }\n",
       "\n",
       "    .dataframe thead th {\n",
       "        text-align: right;\n",
       "    }\n",
       "</style>\n",
       "<table border=\"1\" class=\"dataframe\">\n",
       "  <thead>\n",
       "    <tr style=\"text-align: right;\">\n",
       "      <th></th>\n",
       "      <th>NB001</th>\n",
       "      <th>NB002</th>\n",
       "      <th>NB003</th>\n",
       "      <th>NB004</th>\n",
       "      <th>NB005</th>\n",
       "      <th>NB006</th>\n",
       "      <th>NB007</th>\n",
       "      <th>NB008</th>\n",
       "      <th>NB009</th>\n",
       "      <th>NB010</th>\n",
       "      <th>...</th>\n",
       "      <th>NB489</th>\n",
       "      <th>NB490</th>\n",
       "      <th>NB491</th>\n",
       "      <th>NB492</th>\n",
       "      <th>NB493</th>\n",
       "      <th>NB494</th>\n",
       "      <th>NB495</th>\n",
       "      <th>NB496</th>\n",
       "      <th>NB497</th>\n",
       "      <th>NB498</th>\n",
       "    </tr>\n",
       "    <tr>\n",
       "      <th>gene_id</th>\n",
       "      <th></th>\n",
       "      <th></th>\n",
       "      <th></th>\n",
       "      <th></th>\n",
       "      <th></th>\n",
       "      <th></th>\n",
       "      <th></th>\n",
       "      <th></th>\n",
       "      <th></th>\n",
       "      <th></th>\n",
       "      <th></th>\n",
       "      <th></th>\n",
       "      <th></th>\n",
       "      <th></th>\n",
       "      <th></th>\n",
       "      <th></th>\n",
       "      <th></th>\n",
       "      <th></th>\n",
       "      <th></th>\n",
       "      <th></th>\n",
       "      <th></th>\n",
       "    </tr>\n",
       "  </thead>\n",
       "  <tbody>\n",
       "    <tr>\n",
       "      <th>1/2-SBSRNA4</th>\n",
       "      <td>0.834381</td>\n",
       "      <td>0.743094</td>\n",
       "      <td>0.909414</td>\n",
       "      <td>0.795775</td>\n",
       "      <td>0.905540</td>\n",
       "      <td>0.869154</td>\n",
       "      <td>1.811352</td>\n",
       "      <td>0.599240</td>\n",
       "      <td>0.981855</td>\n",
       "      <td>1.066399</td>\n",
       "      <td>...</td>\n",
       "      <td>0.997977</td>\n",
       "      <td>1.003559</td>\n",
       "      <td>0.842437</td>\n",
       "      <td>1.057873</td>\n",
       "      <td>0.805515</td>\n",
       "      <td>0.491331</td>\n",
       "      <td>0.868249</td>\n",
       "      <td>0.911379</td>\n",
       "      <td>0.660139</td>\n",
       "      <td>1.152988</td>\n",
       "    </tr>\n",
       "    <tr>\n",
       "      <th>A1BG</th>\n",
       "      <td>1.910053</td>\n",
       "      <td>0.941996</td>\n",
       "      <td>1.950857</td>\n",
       "      <td>1.989477</td>\n",
       "      <td>1.942946</td>\n",
       "      <td>1.927608</td>\n",
       "      <td>1.617745</td>\n",
       "      <td>2.161291</td>\n",
       "      <td>1.436439</td>\n",
       "      <td>2.159797</td>\n",
       "      <td>...</td>\n",
       "      <td>2.336929</td>\n",
       "      <td>2.836360</td>\n",
       "      <td>1.205317</td>\n",
       "      <td>2.439868</td>\n",
       "      <td>1.649027</td>\n",
       "      <td>1.451425</td>\n",
       "      <td>1.493852</td>\n",
       "      <td>1.641241</td>\n",
       "      <td>1.994978</td>\n",
       "      <td>1.289534</td>\n",
       "    </tr>\n",
       "    <tr>\n",
       "      <th>A1BG-AS1</th>\n",
       "      <td>1.453191</td>\n",
       "      <td>0.640614</td>\n",
       "      <td>1.156765</td>\n",
       "      <td>1.525277</td>\n",
       "      <td>1.365043</td>\n",
       "      <td>0.899212</td>\n",
       "      <td>1.304178</td>\n",
       "      <td>1.189205</td>\n",
       "      <td>0.771248</td>\n",
       "      <td>1.114787</td>\n",
       "      <td>...</td>\n",
       "      <td>1.182908</td>\n",
       "      <td>1.367371</td>\n",
       "      <td>0.643751</td>\n",
       "      <td>1.096815</td>\n",
       "      <td>0.925425</td>\n",
       "      <td>0.933275</td>\n",
       "      <td>1.208723</td>\n",
       "      <td>0.904511</td>\n",
       "      <td>1.529221</td>\n",
       "      <td>1.102866</td>\n",
       "    </tr>\n",
       "    <tr>\n",
       "      <th>A1CF</th>\n",
       "      <td>0.005102</td>\n",
       "      <td>0.005902</td>\n",
       "      <td>0.005192</td>\n",
       "      <td>0.000000</td>\n",
       "      <td>0.025347</td>\n",
       "      <td>0.005682</td>\n",
       "      <td>0.000000</td>\n",
       "      <td>0.000000</td>\n",
       "      <td>0.021880</td>\n",
       "      <td>0.000000</td>\n",
       "      <td>...</td>\n",
       "      <td>0.024298</td>\n",
       "      <td>0.007295</td>\n",
       "      <td>0.000000</td>\n",
       "      <td>0.006678</td>\n",
       "      <td>0.005746</td>\n",
       "      <td>0.004998</td>\n",
       "      <td>0.004853</td>\n",
       "      <td>0.000000</td>\n",
       "      <td>0.022780</td>\n",
       "      <td>0.018720</td>\n",
       "    </tr>\n",
       "    <tr>\n",
       "      <th>A2LD1</th>\n",
       "      <td>0.580151</td>\n",
       "      <td>0.738233</td>\n",
       "      <td>0.927667</td>\n",
       "      <td>0.936497</td>\n",
       "      <td>0.924853</td>\n",
       "      <td>0.739038</td>\n",
       "      <td>1.018705</td>\n",
       "      <td>0.546324</td>\n",
       "      <td>0.666877</td>\n",
       "      <td>0.865850</td>\n",
       "      <td>...</td>\n",
       "      <td>0.673627</td>\n",
       "      <td>1.401265</td>\n",
       "      <td>0.837443</td>\n",
       "      <td>0.939849</td>\n",
       "      <td>0.743496</td>\n",
       "      <td>0.957837</td>\n",
       "      <td>0.812093</td>\n",
       "      <td>0.488748</td>\n",
       "      <td>1.068072</td>\n",
       "      <td>0.782887</td>\n",
       "    </tr>\n",
       "  </tbody>\n",
       "</table>\n",
       "<p>5 rows × 498 columns</p>\n",
       "</div>"
      ],
      "text/plain": [
       "                NB001     NB002     NB003     NB004     NB005     NB006  \\\n",
       "gene_id                                                                   \n",
       "1/2-SBSRNA4  0.834381  0.743094  0.909414  0.795775  0.905540  0.869154   \n",
       "A1BG         1.910053  0.941996  1.950857  1.989477  1.942946  1.927608   \n",
       "A1BG-AS1     1.453191  0.640614  1.156765  1.525277  1.365043  0.899212   \n",
       "A1CF         0.005102  0.005902  0.005192  0.000000  0.025347  0.005682   \n",
       "A2LD1        0.580151  0.738233  0.927667  0.936497  0.924853  0.739038   \n",
       "\n",
       "                NB007     NB008     NB009     NB010  ...     NB489     NB490  \\\n",
       "gene_id                                              ...                       \n",
       "1/2-SBSRNA4  1.811352  0.599240  0.981855  1.066399  ...  0.997977  1.003559   \n",
       "A1BG         1.617745  2.161291  1.436439  2.159797  ...  2.336929  2.836360   \n",
       "A1BG-AS1     1.304178  1.189205  0.771248  1.114787  ...  1.182908  1.367371   \n",
       "A1CF         0.000000  0.000000  0.021880  0.000000  ...  0.024298  0.007295   \n",
       "A2LD1        1.018705  0.546324  0.666877  0.865850  ...  0.673627  1.401265   \n",
       "\n",
       "                NB491     NB492     NB493     NB494     NB495     NB496  \\\n",
       "gene_id                                                                   \n",
       "1/2-SBSRNA4  0.842437  1.057873  0.805515  0.491331  0.868249  0.911379   \n",
       "A1BG         1.205317  2.439868  1.649027  1.451425  1.493852  1.641241   \n",
       "A1BG-AS1     0.643751  1.096815  0.925425  0.933275  1.208723  0.904511   \n",
       "A1CF         0.000000  0.006678  0.005746  0.004998  0.004853  0.000000   \n",
       "A2LD1        0.837443  0.939849  0.743496  0.957837  0.812093  0.488748   \n",
       "\n",
       "                NB497     NB498  \n",
       "gene_id                          \n",
       "1/2-SBSRNA4  0.660139  1.152988  \n",
       "A1BG         1.994978  1.289534  \n",
       "A1BG-AS1     1.529221  1.102866  \n",
       "A1CF         0.022780  0.018720  \n",
       "A2LD1        1.068072  0.782887  \n",
       "\n",
       "[5 rows x 498 columns]"
      ]
     },
     "execution_count": 6,
     "metadata": {},
     "output_type": "execute_result"
    }
   ],
   "source": [
    "df_fpkm.columns=myL\n",
    "df_fpkm.head()"
   ]
  },
  {
   "cell_type": "code",
   "execution_count": 7,
   "metadata": {},
   "outputs": [
    {
     "data": {
      "text/html": [
       "<div>\n",
       "<style scoped>\n",
       "    .dataframe tbody tr th:only-of-type {\n",
       "        vertical-align: middle;\n",
       "    }\n",
       "\n",
       "    .dataframe tbody tr th {\n",
       "        vertical-align: top;\n",
       "    }\n",
       "\n",
       "    .dataframe thead th {\n",
       "        text-align: right;\n",
       "    }\n",
       "</style>\n",
       "<table border=\"1\" class=\"dataframe\">\n",
       "  <thead>\n",
       "    <tr style=\"text-align: right;\">\n",
       "      <th></th>\n",
       "      <th>NB031</th>\n",
       "      <th>NB032</th>\n",
       "      <th>NB033</th>\n",
       "      <th>NB034</th>\n",
       "      <th>NB035</th>\n",
       "      <th>NB036</th>\n",
       "      <th>NB037</th>\n",
       "      <th>NB038</th>\n",
       "      <th>NB039</th>\n",
       "      <th>NB040</th>\n",
       "      <th>NB041</th>\n",
       "      <th>NB042</th>\n",
       "      <th>NB043</th>\n",
       "      <th>NB044</th>\n",
       "      <th>NB045</th>\n",
       "      <th>NB046</th>\n",
       "      <th>NB047</th>\n",
       "      <th>NB048</th>\n",
       "      <th>NB049</th>\n",
       "      <th>NB050</th>\n",
       "    </tr>\n",
       "    <tr>\n",
       "      <th>gene_id</th>\n",
       "      <th></th>\n",
       "      <th></th>\n",
       "      <th></th>\n",
       "      <th></th>\n",
       "      <th></th>\n",
       "      <th></th>\n",
       "      <th></th>\n",
       "      <th></th>\n",
       "      <th></th>\n",
       "      <th></th>\n",
       "      <th></th>\n",
       "      <th></th>\n",
       "      <th></th>\n",
       "      <th></th>\n",
       "      <th></th>\n",
       "      <th></th>\n",
       "      <th></th>\n",
       "      <th></th>\n",
       "      <th></th>\n",
       "      <th></th>\n",
       "    </tr>\n",
       "  </thead>\n",
       "  <tbody>\n",
       "    <tr>\n",
       "      <th>1/2-SBSRNA4</th>\n",
       "      <td>0.436579</td>\n",
       "      <td>1.076244</td>\n",
       "      <td>0.683781</td>\n",
       "      <td>1.019211</td>\n",
       "      <td>0.943636</td>\n",
       "      <td>0.718348</td>\n",
       "      <td>0.629979</td>\n",
       "      <td>0.732586</td>\n",
       "      <td>0.828116</td>\n",
       "      <td>1.084670</td>\n",
       "      <td>0.645144</td>\n",
       "      <td>0.737983</td>\n",
       "      <td>0.760957</td>\n",
       "      <td>1.083874</td>\n",
       "      <td>0.992291</td>\n",
       "      <td>0.821687</td>\n",
       "      <td>0.843345</td>\n",
       "      <td>0.337978</td>\n",
       "      <td>1.103498</td>\n",
       "      <td>0.827757</td>\n",
       "    </tr>\n",
       "    <tr>\n",
       "      <th>A1BG</th>\n",
       "      <td>1.844205</td>\n",
       "      <td>1.792710</td>\n",
       "      <td>1.621463</td>\n",
       "      <td>1.802938</td>\n",
       "      <td>1.594740</td>\n",
       "      <td>1.481335</td>\n",
       "      <td>1.406879</td>\n",
       "      <td>1.528446</td>\n",
       "      <td>1.616536</td>\n",
       "      <td>1.851439</td>\n",
       "      <td>1.557341</td>\n",
       "      <td>1.762187</td>\n",
       "      <td>1.306875</td>\n",
       "      <td>1.124666</td>\n",
       "      <td>1.576614</td>\n",
       "      <td>1.569165</td>\n",
       "      <td>1.573869</td>\n",
       "      <td>1.926383</td>\n",
       "      <td>1.610502</td>\n",
       "      <td>1.926296</td>\n",
       "    </tr>\n",
       "    <tr>\n",
       "      <th>A1BG-AS1</th>\n",
       "      <td>1.283910</td>\n",
       "      <td>1.066358</td>\n",
       "      <td>0.800278</td>\n",
       "      <td>1.395885</td>\n",
       "      <td>1.246615</td>\n",
       "      <td>1.123997</td>\n",
       "      <td>1.025560</td>\n",
       "      <td>1.151508</td>\n",
       "      <td>1.205055</td>\n",
       "      <td>1.279863</td>\n",
       "      <td>1.152326</td>\n",
       "      <td>1.206812</td>\n",
       "      <td>1.149181</td>\n",
       "      <td>1.163022</td>\n",
       "      <td>0.962849</td>\n",
       "      <td>1.279192</td>\n",
       "      <td>1.501093</td>\n",
       "      <td>1.013941</td>\n",
       "      <td>0.991966</td>\n",
       "      <td>1.531069</td>\n",
       "    </tr>\n",
       "    <tr>\n",
       "      <th>A1CF</th>\n",
       "      <td>0.000000</td>\n",
       "      <td>0.005221</td>\n",
       "      <td>0.021089</td>\n",
       "      <td>0.004336</td>\n",
       "      <td>0.019500</td>\n",
       "      <td>0.005249</td>\n",
       "      <td>0.000000</td>\n",
       "      <td>0.028757</td>\n",
       "      <td>0.042508</td>\n",
       "      <td>0.005479</td>\n",
       "      <td>0.021832</td>\n",
       "      <td>0.005034</td>\n",
       "      <td>0.030836</td>\n",
       "      <td>0.021644</td>\n",
       "      <td>0.005278</td>\n",
       "      <td>0.005265</td>\n",
       "      <td>0.000000</td>\n",
       "      <td>0.004661</td>\n",
       "      <td>0.005078</td>\n",
       "      <td>0.000000</td>\n",
       "    </tr>\n",
       "    <tr>\n",
       "      <th>A2LD1</th>\n",
       "      <td>0.668352</td>\n",
       "      <td>0.815074</td>\n",
       "      <td>0.637956</td>\n",
       "      <td>1.198450</td>\n",
       "      <td>0.621192</td>\n",
       "      <td>1.005148</td>\n",
       "      <td>0.719900</td>\n",
       "      <td>0.925812</td>\n",
       "      <td>0.832686</td>\n",
       "      <td>0.692755</td>\n",
       "      <td>0.535418</td>\n",
       "      <td>1.214747</td>\n",
       "      <td>0.674591</td>\n",
       "      <td>0.522451</td>\n",
       "      <td>0.719081</td>\n",
       "      <td>0.789252</td>\n",
       "      <td>0.963666</td>\n",
       "      <td>0.583349</td>\n",
       "      <td>1.139122</td>\n",
       "      <td>0.682246</td>\n",
       "    </tr>\n",
       "    <tr>\n",
       "      <th>...</th>\n",
       "      <td>...</td>\n",
       "      <td>...</td>\n",
       "      <td>...</td>\n",
       "      <td>...</td>\n",
       "      <td>...</td>\n",
       "      <td>...</td>\n",
       "      <td>...</td>\n",
       "      <td>...</td>\n",
       "      <td>...</td>\n",
       "      <td>...</td>\n",
       "      <td>...</td>\n",
       "      <td>...</td>\n",
       "      <td>...</td>\n",
       "      <td>...</td>\n",
       "      <td>...</td>\n",
       "      <td>...</td>\n",
       "      <td>...</td>\n",
       "      <td>...</td>\n",
       "      <td>...</td>\n",
       "      <td>...</td>\n",
       "    </tr>\n",
       "    <tr>\n",
       "      <th>ZYG11A</th>\n",
       "      <td>0.093152</td>\n",
       "      <td>0.011584</td>\n",
       "      <td>0.113494</td>\n",
       "      <td>0.181250</td>\n",
       "      <td>0.021669</td>\n",
       "      <td>0.011651</td>\n",
       "      <td>0.011480</td>\n",
       "      <td>0.012047</td>\n",
       "      <td>0.011696</td>\n",
       "      <td>0.059782</td>\n",
       "      <td>0.021599</td>\n",
       "      <td>0.011189</td>\n",
       "      <td>0.000000</td>\n",
       "      <td>0.000000</td>\n",
       "      <td>0.034839</td>\n",
       "      <td>0.068646</td>\n",
       "      <td>0.000000</td>\n",
       "      <td>0.298686</td>\n",
       "      <td>0.076990</td>\n",
       "      <td>0.068518</td>\n",
       "    </tr>\n",
       "    <tr>\n",
       "      <th>ZYG11B</th>\n",
       "      <td>3.887749</td>\n",
       "      <td>3.471279</td>\n",
       "      <td>3.716750</td>\n",
       "      <td>3.391076</td>\n",
       "      <td>3.481583</td>\n",
       "      <td>3.323184</td>\n",
       "      <td>3.429429</td>\n",
       "      <td>3.476589</td>\n",
       "      <td>3.429418</td>\n",
       "      <td>3.107244</td>\n",
       "      <td>3.826843</td>\n",
       "      <td>3.144996</td>\n",
       "      <td>3.903771</td>\n",
       "      <td>3.548128</td>\n",
       "      <td>3.523725</td>\n",
       "      <td>3.585119</td>\n",
       "      <td>3.689489</td>\n",
       "      <td>3.413574</td>\n",
       "      <td>3.564439</td>\n",
       "      <td>3.487564</td>\n",
       "    </tr>\n",
       "    <tr>\n",
       "      <th>ZYX</th>\n",
       "      <td>5.674639</td>\n",
       "      <td>5.631442</td>\n",
       "      <td>4.769158</td>\n",
       "      <td>5.747167</td>\n",
       "      <td>5.502668</td>\n",
       "      <td>5.475487</td>\n",
       "      <td>5.244461</td>\n",
       "      <td>5.696236</td>\n",
       "      <td>5.145730</td>\n",
       "      <td>5.842906</td>\n",
       "      <td>4.737562</td>\n",
       "      <td>5.736648</td>\n",
       "      <td>5.052329</td>\n",
       "      <td>6.258771</td>\n",
       "      <td>5.634181</td>\n",
       "      <td>5.078973</td>\n",
       "      <td>5.088362</td>\n",
       "      <td>6.241137</td>\n",
       "      <td>5.835196</td>\n",
       "      <td>5.494131</td>\n",
       "    </tr>\n",
       "    <tr>\n",
       "      <th>ZZEF1</th>\n",
       "      <td>3.224840</td>\n",
       "      <td>3.165774</td>\n",
       "      <td>3.115731</td>\n",
       "      <td>2.733623</td>\n",
       "      <td>3.267563</td>\n",
       "      <td>2.875969</td>\n",
       "      <td>3.351324</td>\n",
       "      <td>2.924208</td>\n",
       "      <td>2.974067</td>\n",
       "      <td>3.280443</td>\n",
       "      <td>3.108958</td>\n",
       "      <td>2.800378</td>\n",
       "      <td>3.468961</td>\n",
       "      <td>3.574659</td>\n",
       "      <td>3.042292</td>\n",
       "      <td>3.236030</td>\n",
       "      <td>2.789529</td>\n",
       "      <td>2.202440</td>\n",
       "      <td>2.985254</td>\n",
       "      <td>3.009580</td>\n",
       "    </tr>\n",
       "    <tr>\n",
       "      <th>ZZZ3</th>\n",
       "      <td>3.313578</td>\n",
       "      <td>3.178895</td>\n",
       "      <td>3.007043</td>\n",
       "      <td>3.015257</td>\n",
       "      <td>3.590985</td>\n",
       "      <td>3.058995</td>\n",
       "      <td>3.172343</td>\n",
       "      <td>3.419018</td>\n",
       "      <td>3.341788</td>\n",
       "      <td>2.894053</td>\n",
       "      <td>2.995982</td>\n",
       "      <td>2.600807</td>\n",
       "      <td>3.380448</td>\n",
       "      <td>3.267041</td>\n",
       "      <td>3.228808</td>\n",
       "      <td>3.423376</td>\n",
       "      <td>3.234310</td>\n",
       "      <td>2.673640</td>\n",
       "      <td>3.214377</td>\n",
       "      <td>3.735414</td>\n",
       "    </tr>\n",
       "  </tbody>\n",
       "</table>\n",
       "<p>23146 rows × 20 columns</p>\n",
       "</div>"
      ],
      "text/plain": [
       "                NB031     NB032     NB033     NB034     NB035     NB036  \\\n",
       "gene_id                                                                   \n",
       "1/2-SBSRNA4  0.436579  1.076244  0.683781  1.019211  0.943636  0.718348   \n",
       "A1BG         1.844205  1.792710  1.621463  1.802938  1.594740  1.481335   \n",
       "A1BG-AS1     1.283910  1.066358  0.800278  1.395885  1.246615  1.123997   \n",
       "A1CF         0.000000  0.005221  0.021089  0.004336  0.019500  0.005249   \n",
       "A2LD1        0.668352  0.815074  0.637956  1.198450  0.621192  1.005148   \n",
       "...               ...       ...       ...       ...       ...       ...   \n",
       "ZYG11A       0.093152  0.011584  0.113494  0.181250  0.021669  0.011651   \n",
       "ZYG11B       3.887749  3.471279  3.716750  3.391076  3.481583  3.323184   \n",
       "ZYX          5.674639  5.631442  4.769158  5.747167  5.502668  5.475487   \n",
       "ZZEF1        3.224840  3.165774  3.115731  2.733623  3.267563  2.875969   \n",
       "ZZZ3         3.313578  3.178895  3.007043  3.015257  3.590985  3.058995   \n",
       "\n",
       "                NB037     NB038     NB039     NB040     NB041     NB042  \\\n",
       "gene_id                                                                   \n",
       "1/2-SBSRNA4  0.629979  0.732586  0.828116  1.084670  0.645144  0.737983   \n",
       "A1BG         1.406879  1.528446  1.616536  1.851439  1.557341  1.762187   \n",
       "A1BG-AS1     1.025560  1.151508  1.205055  1.279863  1.152326  1.206812   \n",
       "A1CF         0.000000  0.028757  0.042508  0.005479  0.021832  0.005034   \n",
       "A2LD1        0.719900  0.925812  0.832686  0.692755  0.535418  1.214747   \n",
       "...               ...       ...       ...       ...       ...       ...   \n",
       "ZYG11A       0.011480  0.012047  0.011696  0.059782  0.021599  0.011189   \n",
       "ZYG11B       3.429429  3.476589  3.429418  3.107244  3.826843  3.144996   \n",
       "ZYX          5.244461  5.696236  5.145730  5.842906  4.737562  5.736648   \n",
       "ZZEF1        3.351324  2.924208  2.974067  3.280443  3.108958  2.800378   \n",
       "ZZZ3         3.172343  3.419018  3.341788  2.894053  2.995982  2.600807   \n",
       "\n",
       "                NB043     NB044     NB045     NB046     NB047     NB048  \\\n",
       "gene_id                                                                   \n",
       "1/2-SBSRNA4  0.760957  1.083874  0.992291  0.821687  0.843345  0.337978   \n",
       "A1BG         1.306875  1.124666  1.576614  1.569165  1.573869  1.926383   \n",
       "A1BG-AS1     1.149181  1.163022  0.962849  1.279192  1.501093  1.013941   \n",
       "A1CF         0.030836  0.021644  0.005278  0.005265  0.000000  0.004661   \n",
       "A2LD1        0.674591  0.522451  0.719081  0.789252  0.963666  0.583349   \n",
       "...               ...       ...       ...       ...       ...       ...   \n",
       "ZYG11A       0.000000  0.000000  0.034839  0.068646  0.000000  0.298686   \n",
       "ZYG11B       3.903771  3.548128  3.523725  3.585119  3.689489  3.413574   \n",
       "ZYX          5.052329  6.258771  5.634181  5.078973  5.088362  6.241137   \n",
       "ZZEF1        3.468961  3.574659  3.042292  3.236030  2.789529  2.202440   \n",
       "ZZZ3         3.380448  3.267041  3.228808  3.423376  3.234310  2.673640   \n",
       "\n",
       "                NB049     NB050  \n",
       "gene_id                          \n",
       "1/2-SBSRNA4  1.103498  0.827757  \n",
       "A1BG         1.610502  1.926296  \n",
       "A1BG-AS1     0.991966  1.531069  \n",
       "A1CF         0.005078  0.000000  \n",
       "A2LD1        1.139122  0.682246  \n",
       "...               ...       ...  \n",
       "ZYG11A       0.076990  0.068518  \n",
       "ZYG11B       3.564439  3.487564  \n",
       "ZYX          5.835196  5.494131  \n",
       "ZZEF1        2.985254  3.009580  \n",
       "ZZZ3         3.214377  3.735414  \n",
       "\n",
       "[23146 rows x 20 columns]"
      ]
     },
     "execution_count": 7,
     "metadata": {},
     "output_type": "execute_result"
    }
   ],
   "source": [
    "df_fpkm.iloc[:,30:50]"
   ]
  },
  {
   "cell_type": "code",
   "execution_count": null,
   "metadata": {},
   "outputs": [],
   "source": []
  },
  {
   "cell_type": "code",
   "execution_count": null,
   "metadata": {},
   "outputs": [],
   "source": []
  },
  {
   "cell_type": "code",
   "execution_count": null,
   "metadata": {},
   "outputs": [],
   "source": []
  },
  {
   "cell_type": "markdown",
   "metadata": {},
   "source": [
    "### Load the Microarray data\n",
    "\n",
    "This part already sets the indeces in the DataFrame. Please feel free to change as required. "
   ]
  },
  {
   "cell_type": "code",
   "execution_count": 8,
   "metadata": {},
   "outputs": [
    {
     "data": {
      "text/html": [
       "<div>\n",
       "<style scoped>\n",
       "    .dataframe tbody tr th:only-of-type {\n",
       "        vertical-align: middle;\n",
       "    }\n",
       "\n",
       "    .dataframe tbody tr th {\n",
       "        vertical-align: top;\n",
       "    }\n",
       "\n",
       "    .dataframe thead th {\n",
       "        text-align: right;\n",
       "    }\n",
       "</style>\n",
       "<table border=\"1\" class=\"dataframe\">\n",
       "  <thead>\n",
       "    <tr style=\"text-align: right;\">\n",
       "      <th>ID</th>\n",
       "      <th>GeneSymbols</th>\n",
       "      <th>NB001</th>\n",
       "      <th>NB002</th>\n",
       "      <th>NB003</th>\n",
       "      <th>NB004</th>\n",
       "      <th>NB005</th>\n",
       "      <th>NB006</th>\n",
       "      <th>NB007</th>\n",
       "      <th>NB008</th>\n",
       "      <th>NB009</th>\n",
       "      <th>...</th>\n",
       "      <th>NB489</th>\n",
       "      <th>NB490</th>\n",
       "      <th>NB491</th>\n",
       "      <th>NB492</th>\n",
       "      <th>NB493</th>\n",
       "      <th>NB494</th>\n",
       "      <th>NB495</th>\n",
       "      <th>NB496</th>\n",
       "      <th>NB497</th>\n",
       "      <th>NB498</th>\n",
       "    </tr>\n",
       "    <tr>\n",
       "      <th>Reporter.Identifier</th>\n",
       "      <th></th>\n",
       "      <th></th>\n",
       "      <th></th>\n",
       "      <th></th>\n",
       "      <th></th>\n",
       "      <th></th>\n",
       "      <th></th>\n",
       "      <th></th>\n",
       "      <th></th>\n",
       "      <th></th>\n",
       "      <th></th>\n",
       "      <th></th>\n",
       "      <th></th>\n",
       "      <th></th>\n",
       "      <th></th>\n",
       "      <th></th>\n",
       "      <th></th>\n",
       "      <th></th>\n",
       "      <th></th>\n",
       "      <th></th>\n",
       "      <th></th>\n",
       "    </tr>\n",
       "  </thead>\n",
       "  <tbody>\n",
       "    <tr>\n",
       "      <th>28913</th>\n",
       "      <td>NaN</td>\n",
       "      <td>14.99</td>\n",
       "      <td>14.94</td>\n",
       "      <td>12.48</td>\n",
       "      <td>14.63</td>\n",
       "      <td>11.89</td>\n",
       "      <td>15.09</td>\n",
       "      <td>13.07</td>\n",
       "      <td>12.00</td>\n",
       "      <td>11.70</td>\n",
       "      <td>...</td>\n",
       "      <td>13.62</td>\n",
       "      <td>13.03</td>\n",
       "      <td>14.98</td>\n",
       "      <td>13.36</td>\n",
       "      <td>13.90</td>\n",
       "      <td>13.00</td>\n",
       "      <td>13.79</td>\n",
       "      <td>14.70</td>\n",
       "      <td>14.03</td>\n",
       "      <td>12.31</td>\n",
       "    </tr>\n",
       "    <tr>\n",
       "      <th>27262</th>\n",
       "      <td>NaN</td>\n",
       "      <td>9.20</td>\n",
       "      <td>10.41</td>\n",
       "      <td>9.27</td>\n",
       "      <td>8.83</td>\n",
       "      <td>7.97</td>\n",
       "      <td>10.33</td>\n",
       "      <td>9.62</td>\n",
       "      <td>8.72</td>\n",
       "      <td>9.36</td>\n",
       "      <td>...</td>\n",
       "      <td>6.26</td>\n",
       "      <td>5.93</td>\n",
       "      <td>6.97</td>\n",
       "      <td>5.99</td>\n",
       "      <td>7.62</td>\n",
       "      <td>7.76</td>\n",
       "      <td>8.56</td>\n",
       "      <td>7.74</td>\n",
       "      <td>7.57</td>\n",
       "      <td>7.08</td>\n",
       "    </tr>\n",
       "    <tr>\n",
       "      <th>3180</th>\n",
       "      <td>NaN</td>\n",
       "      <td>5.06</td>\n",
       "      <td>5.26</td>\n",
       "      <td>6.45</td>\n",
       "      <td>2.89</td>\n",
       "      <td>2.00</td>\n",
       "      <td>4.80</td>\n",
       "      <td>3.05</td>\n",
       "      <td>6.39</td>\n",
       "      <td>6.43</td>\n",
       "      <td>...</td>\n",
       "      <td>0.93</td>\n",
       "      <td>0.58</td>\n",
       "      <td>1.26</td>\n",
       "      <td>1.38</td>\n",
       "      <td>3.49</td>\n",
       "      <td>2.07</td>\n",
       "      <td>2.26</td>\n",
       "      <td>2.29</td>\n",
       "      <td>2.63</td>\n",
       "      <td>2.54</td>\n",
       "    </tr>\n",
       "    <tr>\n",
       "      <th>41426</th>\n",
       "      <td>MBL1P</td>\n",
       "      <td>7.45</td>\n",
       "      <td>8.68</td>\n",
       "      <td>6.30</td>\n",
       "      <td>7.30</td>\n",
       "      <td>6.26</td>\n",
       "      <td>7.50</td>\n",
       "      <td>7.43</td>\n",
       "      <td>6.98</td>\n",
       "      <td>8.02</td>\n",
       "      <td>...</td>\n",
       "      <td>5.35</td>\n",
       "      <td>5.57</td>\n",
       "      <td>5.51</td>\n",
       "      <td>6.30</td>\n",
       "      <td>6.60</td>\n",
       "      <td>6.38</td>\n",
       "      <td>7.49</td>\n",
       "      <td>6.77</td>\n",
       "      <td>8.13</td>\n",
       "      <td>7.11</td>\n",
       "    </tr>\n",
       "    <tr>\n",
       "      <th>37033</th>\n",
       "      <td>NaN</td>\n",
       "      <td>6.74</td>\n",
       "      <td>6.63</td>\n",
       "      <td>6.75</td>\n",
       "      <td>6.20</td>\n",
       "      <td>6.57</td>\n",
       "      <td>6.01</td>\n",
       "      <td>6.78</td>\n",
       "      <td>4.80</td>\n",
       "      <td>5.15</td>\n",
       "      <td>...</td>\n",
       "      <td>4.58</td>\n",
       "      <td>4.61</td>\n",
       "      <td>3.54</td>\n",
       "      <td>4.55</td>\n",
       "      <td>4.20</td>\n",
       "      <td>7.16</td>\n",
       "      <td>7.07</td>\n",
       "      <td>5.07</td>\n",
       "      <td>6.28</td>\n",
       "      <td>6.34</td>\n",
       "    </tr>\n",
       "  </tbody>\n",
       "</table>\n",
       "<p>5 rows × 499 columns</p>\n",
       "</div>"
      ],
      "text/plain": [
       "ID                  GeneSymbols  NB001  NB002  NB003  NB004  NB005  NB006  \\\n",
       "Reporter.Identifier                                                         \n",
       "28913                       NaN  14.99  14.94  12.48  14.63  11.89  15.09   \n",
       "27262                       NaN   9.20  10.41   9.27   8.83   7.97  10.33   \n",
       "3180                        NaN   5.06   5.26   6.45   2.89   2.00   4.80   \n",
       "41426                     MBL1P   7.45   8.68   6.30   7.30   6.26   7.50   \n",
       "37033                       NaN   6.74   6.63   6.75   6.20   6.57   6.01   \n",
       "\n",
       "ID                   NB007  NB008  NB009  ...  NB489  NB490  NB491  NB492  \\\n",
       "Reporter.Identifier                       ...                               \n",
       "28913                13.07  12.00  11.70  ...  13.62  13.03  14.98  13.36   \n",
       "27262                 9.62   8.72   9.36  ...   6.26   5.93   6.97   5.99   \n",
       "3180                  3.05   6.39   6.43  ...   0.93   0.58   1.26   1.38   \n",
       "41426                 7.43   6.98   8.02  ...   5.35   5.57   5.51   6.30   \n",
       "37033                 6.78   4.80   5.15  ...   4.58   4.61   3.54   4.55   \n",
       "\n",
       "ID                   NB493  NB494  NB495  NB496  NB497  NB498  \n",
       "Reporter.Identifier                                            \n",
       "28913                13.90  13.00  13.79  14.70  14.03  12.31  \n",
       "27262                 7.62   7.76   8.56   7.74   7.57   7.08  \n",
       "3180                  3.49   2.07   2.26   2.29   2.63   2.54  \n",
       "41426                 6.60   6.38   7.49   6.77   8.13   7.11  \n",
       "37033                 4.20   7.16   7.07   5.07   6.28   6.34  \n",
       "\n",
       "[5 rows x 499 columns]"
      ]
     },
     "execution_count": 8,
     "metadata": {},
     "output_type": "execute_result"
    }
   ],
   "source": [
    "df_prop_intensities = pd.read_csv('{}/{}'.format(data_dir,fn_prop_intensities),sep='\\t').set_index(['Reporter.Identifier'])\n",
    "df_prop_intensities.columns.name = 'ID'\n",
    "\n",
    "df_prop_intensities.head()"
   ]
  },
  {
   "cell_type": "markdown",
   "metadata": {},
   "source": [
    "### Load the patient factors, including the potential endpoints \n",
    "\n",
    "This part already sets the indeces in the DataFrame. Please feel free to change as required. \n",
    "Please note, that the ```FactorValues``` should have a 1-to-1 correspondence to the factors desc ribed in the abstract. "
   ]
  },
  {
   "cell_type": "code",
   "execution_count": 9,
   "metadata": {},
   "outputs": [
    {
     "data": {
      "text/html": [
       "<div>\n",
       "<style scoped>\n",
       "    .dataframe tbody tr th:only-of-type {\n",
       "        vertical-align: middle;\n",
       "    }\n",
       "\n",
       "    .dataframe tbody tr th {\n",
       "        vertical-align: top;\n",
       "    }\n",
       "\n",
       "    .dataframe thead th {\n",
       "        text-align: right;\n",
       "    }\n",
       "</style>\n",
       "<table border=\"1\" class=\"dataframe\">\n",
       "  <thead>\n",
       "    <tr style=\"text-align: right;\">\n",
       "      <th>FactorValues</th>\n",
       "      <th>FactorValue..Sex.</th>\n",
       "      <th>FactorValue..age.at.diagnosis.</th>\n",
       "      <th>FactorValue..death.from.disease.</th>\n",
       "      <th>FactorValue..high.risk.</th>\n",
       "      <th>FactorValue..inss.stage.</th>\n",
       "      <th>FactorValue..progression.</th>\n",
       "    </tr>\n",
       "    <tr>\n",
       "      <th>ID</th>\n",
       "      <th></th>\n",
       "      <th></th>\n",
       "      <th></th>\n",
       "      <th></th>\n",
       "      <th></th>\n",
       "      <th></th>\n",
       "    </tr>\n",
       "  </thead>\n",
       "  <tbody>\n",
       "    <tr>\n",
       "      <th>NB498</th>\n",
       "      <td>female</td>\n",
       "      <td>530</td>\n",
       "      <td>NaN</td>\n",
       "      <td>NaN</td>\n",
       "      <td>NaN</td>\n",
       "      <td>NaN</td>\n",
       "    </tr>\n",
       "    <tr>\n",
       "      <th>NB497</th>\n",
       "      <td>female</td>\n",
       "      <td>379</td>\n",
       "      <td>0.0</td>\n",
       "      <td>0.0</td>\n",
       "      <td>1</td>\n",
       "      <td>0.0</td>\n",
       "    </tr>\n",
       "    <tr>\n",
       "      <th>NB496</th>\n",
       "      <td>male</td>\n",
       "      <td>132</td>\n",
       "      <td>NaN</td>\n",
       "      <td>NaN</td>\n",
       "      <td>NaN</td>\n",
       "      <td>NaN</td>\n",
       "    </tr>\n",
       "    <tr>\n",
       "      <th>NB495</th>\n",
       "      <td>male</td>\n",
       "      <td>163</td>\n",
       "      <td>0.0</td>\n",
       "      <td>0.0</td>\n",
       "      <td>1</td>\n",
       "      <td>0.0</td>\n",
       "    </tr>\n",
       "    <tr>\n",
       "      <th>NB494</th>\n",
       "      <td>male</td>\n",
       "      <td>56</td>\n",
       "      <td>NaN</td>\n",
       "      <td>NaN</td>\n",
       "      <td>NaN</td>\n",
       "      <td>NaN</td>\n",
       "    </tr>\n",
       "  </tbody>\n",
       "</table>\n",
       "</div>"
      ],
      "text/plain": [
       "FactorValues FactorValue..Sex.  FactorValue..age.at.diagnosis.  \\\n",
       "ID                                                               \n",
       "NB498                   female                             530   \n",
       "NB497                   female                             379   \n",
       "NB496                     male                             132   \n",
       "NB495                     male                             163   \n",
       "NB494                     male                              56   \n",
       "\n",
       "FactorValues  FactorValue..death.from.disease.  FactorValue..high.risk.  \\\n",
       "ID                                                                        \n",
       "NB498                                      NaN                      NaN   \n",
       "NB497                                      0.0                      0.0   \n",
       "NB496                                      NaN                      NaN   \n",
       "NB495                                      0.0                      0.0   \n",
       "NB494                                      NaN                      NaN   \n",
       "\n",
       "FactorValues FactorValue..inss.stage.  FactorValue..progression.  \n",
       "ID                                                                \n",
       "NB498                             NaN                        NaN  \n",
       "NB497                               1                        0.0  \n",
       "NB496                             NaN                        NaN  \n",
       "NB495                               1                        0.0  \n",
       "NB494                             NaN                        NaN  "
      ]
     },
     "execution_count": 9,
     "metadata": {},
     "output_type": "execute_result"
    }
   ],
   "source": [
    "df_patient_info = pd.read_csv('{}/{}'.format(data_dir,fn_patient_info),sep='\\t').set_index('ID')\n",
    "df_patient_info.columns.name = 'FactorValues'\n",
    "df_patient_info.head()"
   ]
  },
  {
   "cell_type": "code",
   "execution_count": 10,
   "metadata": {},
   "outputs": [],
   "source": [
    "#Reverese \n",
    "df_patient_info = df_patient_info[::-1]\n"
   ]
  },
  {
   "cell_type": "markdown",
   "metadata": {},
   "source": [
    "####  Divide into training and external testing\n",
    "\n",
    "As you might have already noticed, we removed some of the factor values for some of the patient **ID**s.\n",
    "Every row, where this information is missing indicate a real validation entry. We can use this information and create two separate DataFrames, one for training, one for the validation (testing). \n",
    "\n",
    "The task is to predict the missing values, either with the RNASeq or the Microarray data, or potentially both?\n",
    "\n"
   ]
  },
  {
   "cell_type": "code",
   "execution_count": 11,
   "metadata": {},
   "outputs": [
    {
     "data": {
      "text/html": [
       "<div>\n",
       "<style scoped>\n",
       "    .dataframe tbody tr th:only-of-type {\n",
       "        vertical-align: middle;\n",
       "    }\n",
       "\n",
       "    .dataframe tbody tr th {\n",
       "        vertical-align: top;\n",
       "    }\n",
       "\n",
       "    .dataframe thead th {\n",
       "        text-align: right;\n",
       "    }\n",
       "</style>\n",
       "<table border=\"1\" class=\"dataframe\">\n",
       "  <thead>\n",
       "    <tr style=\"text-align: right;\">\n",
       "      <th>FactorValues</th>\n",
       "      <th>FactorValue..Sex.</th>\n",
       "      <th>FactorValue..age.at.diagnosis.</th>\n",
       "      <th>FactorValue..death.from.disease.</th>\n",
       "      <th>FactorValue..high.risk.</th>\n",
       "      <th>FactorValue..inss.stage.</th>\n",
       "      <th>FactorValue..progression.</th>\n",
       "    </tr>\n",
       "    <tr>\n",
       "      <th>ID</th>\n",
       "      <th></th>\n",
       "      <th></th>\n",
       "      <th></th>\n",
       "      <th></th>\n",
       "      <th></th>\n",
       "      <th></th>\n",
       "    </tr>\n",
       "  </thead>\n",
       "  <tbody>\n",
       "    <tr>\n",
       "      <th>NB001</th>\n",
       "      <td>male</td>\n",
       "      <td>987</td>\n",
       "      <td>1.0</td>\n",
       "      <td>1.0</td>\n",
       "      <td>4</td>\n",
       "      <td>1.0</td>\n",
       "    </tr>\n",
       "    <tr>\n",
       "      <th>NB002</th>\n",
       "      <td>male</td>\n",
       "      <td>1808</td>\n",
       "      <td>NaN</td>\n",
       "      <td>NaN</td>\n",
       "      <td>NaN</td>\n",
       "      <td>NaN</td>\n",
       "    </tr>\n",
       "    <tr>\n",
       "      <th>NB003</th>\n",
       "      <td>female</td>\n",
       "      <td>625</td>\n",
       "      <td>1.0</td>\n",
       "      <td>1.0</td>\n",
       "      <td>4</td>\n",
       "      <td>1.0</td>\n",
       "    </tr>\n",
       "    <tr>\n",
       "      <th>NB004</th>\n",
       "      <td>female</td>\n",
       "      <td>335</td>\n",
       "      <td>NaN</td>\n",
       "      <td>NaN</td>\n",
       "      <td>NaN</td>\n",
       "      <td>NaN</td>\n",
       "    </tr>\n",
       "    <tr>\n",
       "      <th>NB005</th>\n",
       "      <td>female</td>\n",
       "      <td>536</td>\n",
       "      <td>1.0</td>\n",
       "      <td>1.0</td>\n",
       "      <td>4</td>\n",
       "      <td>1.0</td>\n",
       "    </tr>\n",
       "  </tbody>\n",
       "</table>\n",
       "</div>"
      ],
      "text/plain": [
       "FactorValues FactorValue..Sex.  FactorValue..age.at.diagnosis.  \\\n",
       "ID                                                               \n",
       "NB001                     male                             987   \n",
       "NB002                     male                            1808   \n",
       "NB003                   female                             625   \n",
       "NB004                   female                             335   \n",
       "NB005                   female                             536   \n",
       "\n",
       "FactorValues  FactorValue..death.from.disease.  FactorValue..high.risk.  \\\n",
       "ID                                                                        \n",
       "NB001                                      1.0                      1.0   \n",
       "NB002                                      NaN                      NaN   \n",
       "NB003                                      1.0                      1.0   \n",
       "NB004                                      NaN                      NaN   \n",
       "NB005                                      1.0                      1.0   \n",
       "\n",
       "FactorValues FactorValue..inss.stage.  FactorValue..progression.  \n",
       "ID                                                                \n",
       "NB001                               4                        1.0  \n",
       "NB002                             NaN                        NaN  \n",
       "NB003                               4                        1.0  \n",
       "NB004                             NaN                        NaN  \n",
       "NB005                               4                        1.0  "
      ]
     },
     "execution_count": 11,
     "metadata": {},
     "output_type": "execute_result"
    }
   ],
   "source": [
    "df_patient_info.head()\n"
   ]
  },
  {
   "cell_type": "code",
   "execution_count": 12,
   "metadata": {},
   "outputs": [],
   "source": [
    "df_patient_info_train  = df_patient_info[df_patient_info['FactorValue..death.from.disease.'].notna()]\n",
    "df_patient_info_test   = df_patient_info[df_patient_info['FactorValue..death.from.disease.'].isna()]\n",
    "\n"
   ]
  },
  {
   "cell_type": "code",
   "execution_count": 13,
   "metadata": {},
   "outputs": [
    {
     "data": {
      "text/html": [
       "<div>\n",
       "<style scoped>\n",
       "    .dataframe tbody tr th:only-of-type {\n",
       "        vertical-align: middle;\n",
       "    }\n",
       "\n",
       "    .dataframe tbody tr th {\n",
       "        vertical-align: top;\n",
       "    }\n",
       "\n",
       "    .dataframe thead th {\n",
       "        text-align: right;\n",
       "    }\n",
       "</style>\n",
       "<table border=\"1\" class=\"dataframe\">\n",
       "  <thead>\n",
       "    <tr style=\"text-align: right;\">\n",
       "      <th>FactorValues</th>\n",
       "      <th>FactorValue..Sex.</th>\n",
       "      <th>FactorValue..age.at.diagnosis.</th>\n",
       "      <th>FactorValue..death.from.disease.</th>\n",
       "      <th>FactorValue..high.risk.</th>\n",
       "      <th>FactorValue..inss.stage.</th>\n",
       "      <th>FactorValue..progression.</th>\n",
       "    </tr>\n",
       "    <tr>\n",
       "      <th>ID</th>\n",
       "      <th></th>\n",
       "      <th></th>\n",
       "      <th></th>\n",
       "      <th></th>\n",
       "      <th></th>\n",
       "      <th></th>\n",
       "    </tr>\n",
       "  </thead>\n",
       "  <tbody>\n",
       "    <tr>\n",
       "      <th>NB001</th>\n",
       "      <td>male</td>\n",
       "      <td>987</td>\n",
       "      <td>1.0</td>\n",
       "      <td>1.0</td>\n",
       "      <td>4</td>\n",
       "      <td>1.0</td>\n",
       "    </tr>\n",
       "    <tr>\n",
       "      <th>NB003</th>\n",
       "      <td>female</td>\n",
       "      <td>625</td>\n",
       "      <td>1.0</td>\n",
       "      <td>1.0</td>\n",
       "      <td>4</td>\n",
       "      <td>1.0</td>\n",
       "    </tr>\n",
       "    <tr>\n",
       "      <th>NB005</th>\n",
       "      <td>female</td>\n",
       "      <td>536</td>\n",
       "      <td>1.0</td>\n",
       "      <td>1.0</td>\n",
       "      <td>4</td>\n",
       "      <td>1.0</td>\n",
       "    </tr>\n",
       "    <tr>\n",
       "      <th>NB007</th>\n",
       "      <td>male</td>\n",
       "      <td>942</td>\n",
       "      <td>0.0</td>\n",
       "      <td>1.0</td>\n",
       "      <td>4</td>\n",
       "      <td>1.0</td>\n",
       "    </tr>\n",
       "    <tr>\n",
       "      <th>NB009</th>\n",
       "      <td>female</td>\n",
       "      <td>217</td>\n",
       "      <td>0.0</td>\n",
       "      <td>1.0</td>\n",
       "      <td>4S</td>\n",
       "      <td>0.0</td>\n",
       "    </tr>\n",
       "  </tbody>\n",
       "</table>\n",
       "</div>"
      ],
      "text/plain": [
       "FactorValues FactorValue..Sex.  FactorValue..age.at.diagnosis.  \\\n",
       "ID                                                               \n",
       "NB001                     male                             987   \n",
       "NB003                   female                             625   \n",
       "NB005                   female                             536   \n",
       "NB007                     male                             942   \n",
       "NB009                   female                             217   \n",
       "\n",
       "FactorValues  FactorValue..death.from.disease.  FactorValue..high.risk.  \\\n",
       "ID                                                                        \n",
       "NB001                                      1.0                      1.0   \n",
       "NB003                                      1.0                      1.0   \n",
       "NB005                                      1.0                      1.0   \n",
       "NB007                                      0.0                      1.0   \n",
       "NB009                                      0.0                      1.0   \n",
       "\n",
       "FactorValues FactorValue..inss.stage.  FactorValue..progression.  \n",
       "ID                                                                \n",
       "NB001                               4                        1.0  \n",
       "NB003                               4                        1.0  \n",
       "NB005                               4                        1.0  \n",
       "NB007                               4                        1.0  \n",
       "NB009                              4S                        0.0  "
      ]
     },
     "execution_count": 13,
     "metadata": {},
     "output_type": "execute_result"
    }
   ],
   "source": [
    "df_patient_info_train.head()"
   ]
  },
  {
   "cell_type": "code",
   "execution_count": 14,
   "metadata": {},
   "outputs": [
    {
     "data": {
      "text/html": [
       "<div>\n",
       "<style scoped>\n",
       "    .dataframe tbody tr th:only-of-type {\n",
       "        vertical-align: middle;\n",
       "    }\n",
       "\n",
       "    .dataframe tbody tr th {\n",
       "        vertical-align: top;\n",
       "    }\n",
       "\n",
       "    .dataframe thead th {\n",
       "        text-align: right;\n",
       "    }\n",
       "</style>\n",
       "<table border=\"1\" class=\"dataframe\">\n",
       "  <thead>\n",
       "    <tr style=\"text-align: right;\">\n",
       "      <th>FactorValues</th>\n",
       "      <th>FactorValue..Sex.</th>\n",
       "      <th>FactorValue..age.at.diagnosis.</th>\n",
       "      <th>FactorValue..death.from.disease.</th>\n",
       "      <th>FactorValue..high.risk.</th>\n",
       "      <th>FactorValue..inss.stage.</th>\n",
       "      <th>FactorValue..progression.</th>\n",
       "    </tr>\n",
       "    <tr>\n",
       "      <th>ID</th>\n",
       "      <th></th>\n",
       "      <th></th>\n",
       "      <th></th>\n",
       "      <th></th>\n",
       "      <th></th>\n",
       "      <th></th>\n",
       "    </tr>\n",
       "  </thead>\n",
       "  <tbody>\n",
       "    <tr>\n",
       "      <th>NB002</th>\n",
       "      <td>male</td>\n",
       "      <td>1808</td>\n",
       "      <td>NaN</td>\n",
       "      <td>NaN</td>\n",
       "      <td>NaN</td>\n",
       "      <td>NaN</td>\n",
       "    </tr>\n",
       "    <tr>\n",
       "      <th>NB004</th>\n",
       "      <td>female</td>\n",
       "      <td>335</td>\n",
       "      <td>NaN</td>\n",
       "      <td>NaN</td>\n",
       "      <td>NaN</td>\n",
       "      <td>NaN</td>\n",
       "    </tr>\n",
       "    <tr>\n",
       "      <th>NB006</th>\n",
       "      <td>male</td>\n",
       "      <td>147</td>\n",
       "      <td>NaN</td>\n",
       "      <td>NaN</td>\n",
       "      <td>NaN</td>\n",
       "      <td>NaN</td>\n",
       "    </tr>\n",
       "    <tr>\n",
       "      <th>NB008</th>\n",
       "      <td>male</td>\n",
       "      <td>1652</td>\n",
       "      <td>NaN</td>\n",
       "      <td>NaN</td>\n",
       "      <td>NaN</td>\n",
       "      <td>NaN</td>\n",
       "    </tr>\n",
       "    <tr>\n",
       "      <th>NB010</th>\n",
       "      <td>male</td>\n",
       "      <td>379</td>\n",
       "      <td>NaN</td>\n",
       "      <td>NaN</td>\n",
       "      <td>NaN</td>\n",
       "      <td>NaN</td>\n",
       "    </tr>\n",
       "  </tbody>\n",
       "</table>\n",
       "</div>"
      ],
      "text/plain": [
       "FactorValues FactorValue..Sex.  FactorValue..age.at.diagnosis.  \\\n",
       "ID                                                               \n",
       "NB002                     male                            1808   \n",
       "NB004                   female                             335   \n",
       "NB006                     male                             147   \n",
       "NB008                     male                            1652   \n",
       "NB010                     male                             379   \n",
       "\n",
       "FactorValues  FactorValue..death.from.disease.  FactorValue..high.risk.  \\\n",
       "ID                                                                        \n",
       "NB002                                      NaN                      NaN   \n",
       "NB004                                      NaN                      NaN   \n",
       "NB006                                      NaN                      NaN   \n",
       "NB008                                      NaN                      NaN   \n",
       "NB010                                      NaN                      NaN   \n",
       "\n",
       "FactorValues FactorValue..inss.stage.  FactorValue..progression.  \n",
       "ID                                                                \n",
       "NB002                             NaN                        NaN  \n",
       "NB004                             NaN                        NaN  \n",
       "NB006                             NaN                        NaN  \n",
       "NB008                             NaN                        NaN  \n",
       "NB010                             NaN                        NaN  "
      ]
     },
     "execution_count": 14,
     "metadata": {},
     "output_type": "execute_result"
    }
   ],
   "source": [
    "df_patient_info_test.head()"
   ]
  },
  {
   "cell_type": "markdown",
   "metadata": {},
   "source": [
    "## Analysis\n",
    "\n",
    "From here on, you will need to use your skills ...\n",
    "\n",
    "### Note:\n",
    "To be clear, there are **multiple** target features/attributes to predict. Say you want to build a model predicting **death from disease** of a patient, your target variable is ```'FactorValue..death.from.disease.'``` and the corresponding target vector <em>y</em> would be as follows:\n",
    "\n",
    "```python\n",
    "y_train = df_patient_info_train['FactorValue..death.from.disease.'].astype(int)\n",
    "```\n",
    "Taking the other data into account (RNASeq or microarray) as ``` X_train``` (you will have to preprocess and split this information yourselves), you could for example build a random forest model:\n",
    "\n",
    "```python\n",
    "from sklearn.ensemble import RandomForestClassifier\n",
    "random_f_model_death = random_f_model = RandomForestClassifier() \n",
    "random_f_model_death.fit(X_train,y_train)\n",
    "```\n",
    "and predict ```y_test``` using ```X_test```. \n",
    "\n",
    "Obviously, you want to avoid any overfitting and might want to use appropriate validation approaches. \n",
    "\n",
    "Once you have your model and the prediction for the test data, you should be able to fill the ```'FactorValue..death.from.disease.'``` column in the test set. \n",
    "\n",
    "For the submission, please also include the confidence/probability/score for each of the prediction (assume ```1``` to be the value for the positive class). This only applies to the factors:  **high risk**, **progression** and **death from disease** . \n",
    "\n",
    "The other two factors need to be treated differently. \n",
    "\n",
    "More information on how to submit the results will follow. \n",
    "\n",
    "Using this very rough outline, you should be able to predict all factors in the test data. \n",
    "\n",
    "\n",
    "\n",
    "\n",
    "\n",
    "\n",
    "\n",
    "\n",
    "\n"
   ]
  },
  {
   "cell_type": "code",
   "execution_count": 15,
   "metadata": {},
   "outputs": [],
   "source": [
    "#Divide into training and external testing\n",
    "from sklearn import datasets"
   ]
  },
  {
   "cell_type": "code",
   "execution_count": 16,
   "metadata": {},
   "outputs": [
    {
     "data": {
      "text/html": [
       "<div>\n",
       "<style scoped>\n",
       "    .dataframe tbody tr th:only-of-type {\n",
       "        vertical-align: middle;\n",
       "    }\n",
       "\n",
       "    .dataframe tbody tr th {\n",
       "        vertical-align: top;\n",
       "    }\n",
       "\n",
       "    .dataframe thead th {\n",
       "        text-align: right;\n",
       "    }\n",
       "</style>\n",
       "<table border=\"1\" class=\"dataframe\">\n",
       "  <thead>\n",
       "    <tr style=\"text-align: right;\">\n",
       "      <th>gene_id</th>\n",
       "      <th>1/2-SBSRNA4</th>\n",
       "      <th>A1BG</th>\n",
       "      <th>A1BG-AS1</th>\n",
       "      <th>A1CF</th>\n",
       "      <th>A2LD1</th>\n",
       "      <th>A2M</th>\n",
       "      <th>A2ML1</th>\n",
       "      <th>A2MP1</th>\n",
       "      <th>A4GALT</th>\n",
       "      <th>A4GNT</th>\n",
       "      <th>...</th>\n",
       "      <th>ZWILCH</th>\n",
       "      <th>ZWINT</th>\n",
       "      <th>ZXDA</th>\n",
       "      <th>ZXDB</th>\n",
       "      <th>ZXDC</th>\n",
       "      <th>ZYG11A</th>\n",
       "      <th>ZYG11B</th>\n",
       "      <th>ZYX</th>\n",
       "      <th>ZZEF1</th>\n",
       "      <th>ZZZ3</th>\n",
       "    </tr>\n",
       "  </thead>\n",
       "  <tbody>\n",
       "    <tr>\n",
       "      <th>NB001</th>\n",
       "      <td>0.834381</td>\n",
       "      <td>1.910053</td>\n",
       "      <td>1.453191</td>\n",
       "      <td>0.005102</td>\n",
       "      <td>0.580151</td>\n",
       "      <td>5.137167</td>\n",
       "      <td>0.027558</td>\n",
       "      <td>0.170671</td>\n",
       "      <td>1.535670</td>\n",
       "      <td>0.057101</td>\n",
       "      <td>...</td>\n",
       "      <td>3.651545</td>\n",
       "      <td>5.045111</td>\n",
       "      <td>1.575337</td>\n",
       "      <td>2.395551</td>\n",
       "      <td>3.466692</td>\n",
       "      <td>0.862512</td>\n",
       "      <td>3.561729</td>\n",
       "      <td>5.039327</td>\n",
       "      <td>3.245179</td>\n",
       "      <td>3.296496</td>\n",
       "    </tr>\n",
       "    <tr>\n",
       "      <th>NB003</th>\n",
       "      <td>0.909414</td>\n",
       "      <td>1.950857</td>\n",
       "      <td>1.156765</td>\n",
       "      <td>0.005192</td>\n",
       "      <td>0.927667</td>\n",
       "      <td>5.405414</td>\n",
       "      <td>0.028036</td>\n",
       "      <td>0.045284</td>\n",
       "      <td>0.943194</td>\n",
       "      <td>0.000000</td>\n",
       "      <td>...</td>\n",
       "      <td>3.547080</td>\n",
       "      <td>4.721531</td>\n",
       "      <td>1.508530</td>\n",
       "      <td>2.482464</td>\n",
       "      <td>3.056684</td>\n",
       "      <td>0.022912</td>\n",
       "      <td>2.236695</td>\n",
       "      <td>4.982975</td>\n",
       "      <td>2.880531</td>\n",
       "      <td>2.431521</td>\n",
       "    </tr>\n",
       "    <tr>\n",
       "      <th>NB005</th>\n",
       "      <td>0.905540</td>\n",
       "      <td>1.942946</td>\n",
       "      <td>1.365043</td>\n",
       "      <td>0.025347</td>\n",
       "      <td>0.924853</td>\n",
       "      <td>5.613060</td>\n",
       "      <td>0.000000</td>\n",
       "      <td>0.000000</td>\n",
       "      <td>1.549078</td>\n",
       "      <td>0.032056</td>\n",
       "      <td>...</td>\n",
       "      <td>3.582977</td>\n",
       "      <td>4.766362</td>\n",
       "      <td>1.038738</td>\n",
       "      <td>1.890104</td>\n",
       "      <td>2.823576</td>\n",
       "      <td>0.049621</td>\n",
       "      <td>2.235632</td>\n",
       "      <td>5.236531</td>\n",
       "      <td>2.761698</td>\n",
       "      <td>2.226502</td>\n",
       "    </tr>\n",
       "    <tr>\n",
       "      <th>NB007</th>\n",
       "      <td>1.811352</td>\n",
       "      <td>1.617745</td>\n",
       "      <td>1.304178</td>\n",
       "      <td>0.000000</td>\n",
       "      <td>1.018705</td>\n",
       "      <td>6.956301</td>\n",
       "      <td>0.000000</td>\n",
       "      <td>0.210127</td>\n",
       "      <td>1.959344</td>\n",
       "      <td>0.164813</td>\n",
       "      <td>...</td>\n",
       "      <td>3.475448</td>\n",
       "      <td>4.009473</td>\n",
       "      <td>1.407451</td>\n",
       "      <td>2.198063</td>\n",
       "      <td>3.123347</td>\n",
       "      <td>0.044684</td>\n",
       "      <td>3.130989</td>\n",
       "      <td>5.645258</td>\n",
       "      <td>2.755304</td>\n",
       "      <td>2.933508</td>\n",
       "    </tr>\n",
       "    <tr>\n",
       "      <th>NB009</th>\n",
       "      <td>0.981855</td>\n",
       "      <td>1.436439</td>\n",
       "      <td>0.771248</td>\n",
       "      <td>0.021880</td>\n",
       "      <td>0.666877</td>\n",
       "      <td>5.170205</td>\n",
       "      <td>0.000000</td>\n",
       "      <td>0.000000</td>\n",
       "      <td>1.374772</td>\n",
       "      <td>0.031028</td>\n",
       "      <td>...</td>\n",
       "      <td>3.581122</td>\n",
       "      <td>5.193176</td>\n",
       "      <td>1.196494</td>\n",
       "      <td>2.289598</td>\n",
       "      <td>3.409242</td>\n",
       "      <td>0.012183</td>\n",
       "      <td>2.361504</td>\n",
       "      <td>5.393207</td>\n",
       "      <td>2.730553</td>\n",
       "      <td>2.271136</td>\n",
       "    </tr>\n",
       "  </tbody>\n",
       "</table>\n",
       "<p>5 rows × 23146 columns</p>\n",
       "</div>"
      ],
      "text/plain": [
       "gene_id  1/2-SBSRNA4      A1BG  A1BG-AS1      A1CF     A2LD1       A2M  \\\n",
       "NB001       0.834381  1.910053  1.453191  0.005102  0.580151  5.137167   \n",
       "NB003       0.909414  1.950857  1.156765  0.005192  0.927667  5.405414   \n",
       "NB005       0.905540  1.942946  1.365043  0.025347  0.924853  5.613060   \n",
       "NB007       1.811352  1.617745  1.304178  0.000000  1.018705  6.956301   \n",
       "NB009       0.981855  1.436439  0.771248  0.021880  0.666877  5.170205   \n",
       "\n",
       "gene_id     A2ML1     A2MP1    A4GALT     A4GNT  ...    ZWILCH     ZWINT  \\\n",
       "NB001    0.027558  0.170671  1.535670  0.057101  ...  3.651545  5.045111   \n",
       "NB003    0.028036  0.045284  0.943194  0.000000  ...  3.547080  4.721531   \n",
       "NB005    0.000000  0.000000  1.549078  0.032056  ...  3.582977  4.766362   \n",
       "NB007    0.000000  0.210127  1.959344  0.164813  ...  3.475448  4.009473   \n",
       "NB009    0.000000  0.000000  1.374772  0.031028  ...  3.581122  5.193176   \n",
       "\n",
       "gene_id      ZXDA      ZXDB      ZXDC    ZYG11A    ZYG11B       ZYX     ZZEF1  \\\n",
       "NB001    1.575337  2.395551  3.466692  0.862512  3.561729  5.039327  3.245179   \n",
       "NB003    1.508530  2.482464  3.056684  0.022912  2.236695  4.982975  2.880531   \n",
       "NB005    1.038738  1.890104  2.823576  0.049621  2.235632  5.236531  2.761698   \n",
       "NB007    1.407451  2.198063  3.123347  0.044684  3.130989  5.645258  2.755304   \n",
       "NB009    1.196494  2.289598  3.409242  0.012183  2.361504  5.393207  2.730553   \n",
       "\n",
       "gene_id      ZZZ3  \n",
       "NB001    3.296496  \n",
       "NB003    2.431521  \n",
       "NB005    2.226502  \n",
       "NB007    2.933508  \n",
       "NB009    2.271136  \n",
       "\n",
       "[5 rows x 23146 columns]"
      ]
     },
     "execution_count": 16,
     "metadata": {},
     "output_type": "execute_result"
    }
   ],
   "source": [
    "#Removing even number IDs\n",
    "RNA_train = df_fpkm.iloc[0:23146,::2]\n",
    "\n",
    "#Transform RNASeq Data \n",
    "RNA_train = RNA_train.transpose()\n",
    "RNA_train.head()\n"
   ]
  },
  {
   "cell_type": "code",
   "execution_count": 17,
   "metadata": {},
   "outputs": [
    {
     "data": {
      "text/html": [
       "<div>\n",
       "<style scoped>\n",
       "    .dataframe tbody tr th:only-of-type {\n",
       "        vertical-align: middle;\n",
       "    }\n",
       "\n",
       "    .dataframe tbody tr th {\n",
       "        vertical-align: top;\n",
       "    }\n",
       "\n",
       "    .dataframe thead th {\n",
       "        text-align: right;\n",
       "    }\n",
       "</style>\n",
       "<table border=\"1\" class=\"dataframe\">\n",
       "  <thead>\n",
       "    <tr style=\"text-align: right;\">\n",
       "      <th>gene_id</th>\n",
       "      <th>1/2-SBSRNA4</th>\n",
       "      <th>A1BG</th>\n",
       "      <th>A1BG-AS1</th>\n",
       "      <th>A1CF</th>\n",
       "      <th>A2LD1</th>\n",
       "      <th>A2M</th>\n",
       "      <th>A2ML1</th>\n",
       "      <th>A2MP1</th>\n",
       "      <th>A4GALT</th>\n",
       "      <th>A4GNT</th>\n",
       "      <th>...</th>\n",
       "      <th>ZWILCH</th>\n",
       "      <th>ZWINT</th>\n",
       "      <th>ZXDA</th>\n",
       "      <th>ZXDB</th>\n",
       "      <th>ZXDC</th>\n",
       "      <th>ZYG11A</th>\n",
       "      <th>ZYG11B</th>\n",
       "      <th>ZYX</th>\n",
       "      <th>ZZEF1</th>\n",
       "      <th>ZZZ3</th>\n",
       "    </tr>\n",
       "  </thead>\n",
       "  <tbody>\n",
       "    <tr>\n",
       "      <th>NB002</th>\n",
       "      <td>0.743094</td>\n",
       "      <td>0.941996</td>\n",
       "      <td>0.640614</td>\n",
       "      <td>0.005902</td>\n",
       "      <td>0.738233</td>\n",
       "      <td>5.116157</td>\n",
       "      <td>0.000000</td>\n",
       "      <td>0.000000</td>\n",
       "      <td>1.038092</td>\n",
       "      <td>0.066125</td>\n",
       "      <td>...</td>\n",
       "      <td>3.617510</td>\n",
       "      <td>5.037365</td>\n",
       "      <td>1.487028</td>\n",
       "      <td>2.748315</td>\n",
       "      <td>3.201112</td>\n",
       "      <td>0.051655</td>\n",
       "      <td>3.595790</td>\n",
       "      <td>5.144157</td>\n",
       "      <td>2.843600</td>\n",
       "      <td>3.052771</td>\n",
       "    </tr>\n",
       "    <tr>\n",
       "      <th>NB004</th>\n",
       "      <td>0.795775</td>\n",
       "      <td>1.989477</td>\n",
       "      <td>1.525277</td>\n",
       "      <td>0.000000</td>\n",
       "      <td>0.936497</td>\n",
       "      <td>6.034460</td>\n",
       "      <td>0.000000</td>\n",
       "      <td>0.044204</td>\n",
       "      <td>1.091341</td>\n",
       "      <td>0.028540</td>\n",
       "      <td>...</td>\n",
       "      <td>3.699507</td>\n",
       "      <td>4.157084</td>\n",
       "      <td>1.351250</td>\n",
       "      <td>2.447746</td>\n",
       "      <td>3.081720</td>\n",
       "      <td>0.108028</td>\n",
       "      <td>3.312516</td>\n",
       "      <td>6.142091</td>\n",
       "      <td>2.864198</td>\n",
       "      <td>3.119886</td>\n",
       "    </tr>\n",
       "    <tr>\n",
       "      <th>NB006</th>\n",
       "      <td>0.869154</td>\n",
       "      <td>1.927608</td>\n",
       "      <td>0.899212</td>\n",
       "      <td>0.005682</td>\n",
       "      <td>0.739038</td>\n",
       "      <td>5.281676</td>\n",
       "      <td>0.000000</td>\n",
       "      <td>0.000000</td>\n",
       "      <td>1.184775</td>\n",
       "      <td>0.032086</td>\n",
       "      <td>...</td>\n",
       "      <td>3.577320</td>\n",
       "      <td>4.726079</td>\n",
       "      <td>1.567141</td>\n",
       "      <td>2.373818</td>\n",
       "      <td>3.190773</td>\n",
       "      <td>0.264942</td>\n",
       "      <td>3.459969</td>\n",
       "      <td>6.108395</td>\n",
       "      <td>3.970366</td>\n",
       "      <td>3.074821</td>\n",
       "    </tr>\n",
       "    <tr>\n",
       "      <th>NB008</th>\n",
       "      <td>0.599240</td>\n",
       "      <td>2.161291</td>\n",
       "      <td>1.189205</td>\n",
       "      <td>0.000000</td>\n",
       "      <td>0.546324</td>\n",
       "      <td>5.221807</td>\n",
       "      <td>0.008817</td>\n",
       "      <td>0.000000</td>\n",
       "      <td>0.798254</td>\n",
       "      <td>0.054667</td>\n",
       "      <td>...</td>\n",
       "      <td>3.550113</td>\n",
       "      <td>3.800683</td>\n",
       "      <td>1.618957</td>\n",
       "      <td>2.620216</td>\n",
       "      <td>3.262666</td>\n",
       "      <td>0.000000</td>\n",
       "      <td>2.359791</td>\n",
       "      <td>5.018567</td>\n",
       "      <td>2.817902</td>\n",
       "      <td>3.395432</td>\n",
       "    </tr>\n",
       "    <tr>\n",
       "      <th>NB010</th>\n",
       "      <td>1.066399</td>\n",
       "      <td>2.159797</td>\n",
       "      <td>1.114787</td>\n",
       "      <td>0.000000</td>\n",
       "      <td>0.865850</td>\n",
       "      <td>4.399096</td>\n",
       "      <td>0.008982</td>\n",
       "      <td>0.000000</td>\n",
       "      <td>0.850427</td>\n",
       "      <td>0.000000</td>\n",
       "      <td>...</td>\n",
       "      <td>3.507782</td>\n",
       "      <td>4.289820</td>\n",
       "      <td>0.794625</td>\n",
       "      <td>2.559624</td>\n",
       "      <td>2.931842</td>\n",
       "      <td>0.021898</td>\n",
       "      <td>3.284610</td>\n",
       "      <td>5.730512</td>\n",
       "      <td>2.880292</td>\n",
       "      <td>3.263155</td>\n",
       "    </tr>\n",
       "  </tbody>\n",
       "</table>\n",
       "<p>5 rows × 23146 columns</p>\n",
       "</div>"
      ],
      "text/plain": [
       "gene_id  1/2-SBSRNA4      A1BG  A1BG-AS1      A1CF     A2LD1       A2M  \\\n",
       "NB002       0.743094  0.941996  0.640614  0.005902  0.738233  5.116157   \n",
       "NB004       0.795775  1.989477  1.525277  0.000000  0.936497  6.034460   \n",
       "NB006       0.869154  1.927608  0.899212  0.005682  0.739038  5.281676   \n",
       "NB008       0.599240  2.161291  1.189205  0.000000  0.546324  5.221807   \n",
       "NB010       1.066399  2.159797  1.114787  0.000000  0.865850  4.399096   \n",
       "\n",
       "gene_id     A2ML1     A2MP1    A4GALT     A4GNT  ...    ZWILCH     ZWINT  \\\n",
       "NB002    0.000000  0.000000  1.038092  0.066125  ...  3.617510  5.037365   \n",
       "NB004    0.000000  0.044204  1.091341  0.028540  ...  3.699507  4.157084   \n",
       "NB006    0.000000  0.000000  1.184775  0.032086  ...  3.577320  4.726079   \n",
       "NB008    0.008817  0.000000  0.798254  0.054667  ...  3.550113  3.800683   \n",
       "NB010    0.008982  0.000000  0.850427  0.000000  ...  3.507782  4.289820   \n",
       "\n",
       "gene_id      ZXDA      ZXDB      ZXDC    ZYG11A    ZYG11B       ZYX     ZZEF1  \\\n",
       "NB002    1.487028  2.748315  3.201112  0.051655  3.595790  5.144157  2.843600   \n",
       "NB004    1.351250  2.447746  3.081720  0.108028  3.312516  6.142091  2.864198   \n",
       "NB006    1.567141  2.373818  3.190773  0.264942  3.459969  6.108395  3.970366   \n",
       "NB008    1.618957  2.620216  3.262666  0.000000  2.359791  5.018567  2.817902   \n",
       "NB010    0.794625  2.559624  2.931842  0.021898  3.284610  5.730512  2.880292   \n",
       "\n",
       "gene_id      ZZZ3  \n",
       "NB002    3.052771  \n",
       "NB004    3.119886  \n",
       "NB006    3.074821  \n",
       "NB008    3.395432  \n",
       "NB010    3.263155  \n",
       "\n",
       "[5 rows x 23146 columns]"
      ]
     },
     "execution_count": 17,
     "metadata": {},
     "output_type": "execute_result"
    }
   ],
   "source": [
    "#Removing odd number IDs\n",
    "RNA_test = df_fpkm.iloc[0:23146,1::2]\n",
    "\n",
    "#Transform RNASeq Data \n",
    "RNA_test = RNA_test.transpose()\n",
    "RNA_test.head()"
   ]
  },
  {
   "cell_type": "code",
   "execution_count": 18,
   "metadata": {},
   "outputs": [
    {
     "data": {
      "text/plain": [
       "gene_id\n",
       "1/2-SBSRNA4    0\n",
       "A1BG           0\n",
       "A1BG-AS1       0\n",
       "A1CF           0\n",
       "A2LD1          0\n",
       "              ..\n",
       "ZYG11A         0\n",
       "ZYG11B         0\n",
       "ZYX            0\n",
       "ZZEF1          0\n",
       "ZZZ3           0\n",
       "Length: 23146, dtype: int64"
      ]
     },
     "execution_count": 18,
     "metadata": {},
     "output_type": "execute_result"
    }
   ],
   "source": [
    "#Checking for missing data in RNA_train\n",
    "RNA_train.isnull().sum()"
   ]
  },
  {
   "cell_type": "code",
   "execution_count": 19,
   "metadata": {},
   "outputs": [
    {
     "data": {
      "text/plain": [
       "gene_id\n",
       "1/2-SBSRNA4    0\n",
       "A1BG           0\n",
       "A1BG-AS1       0\n",
       "A1CF           0\n",
       "A2LD1          0\n",
       "              ..\n",
       "ZYG11A         0\n",
       "ZYG11B         0\n",
       "ZYX            0\n",
       "ZZEF1          0\n",
       "ZZZ3           0\n",
       "Length: 23146, dtype: int64"
      ]
     },
     "execution_count": 19,
     "metadata": {},
     "output_type": "execute_result"
    }
   ],
   "source": [
    "#Checking for missing data in RNA_test\n",
    "RNA_test.isnull().sum()"
   ]
  },
  {
   "cell_type": "code",
   "execution_count": 20,
   "metadata": {},
   "outputs": [
    {
     "data": {
      "text/plain": [
       "FactorValues\n",
       "FactorValue..Sex.                   0\n",
       "FactorValue..age.at.diagnosis.      0\n",
       "FactorValue..death.from.disease.    0\n",
       "FactorValue..high.risk.             0\n",
       "FactorValue..inss.stage.            0\n",
       "FactorValue..progression.           0\n",
       "dtype: int64"
      ]
     },
     "execution_count": 20,
     "metadata": {},
     "output_type": "execute_result"
    }
   ],
   "source": [
    "#Checking for missing data in Patient info train\n",
    "df_patient_info_train.isnull().sum()"
   ]
  },
  {
   "cell_type": "code",
   "execution_count": 21,
   "metadata": {},
   "outputs": [
    {
     "data": {
      "text/plain": [
       "FactorValues\n",
       "FactorValue..Sex.                     0\n",
       "FactorValue..age.at.diagnosis.        0\n",
       "FactorValue..death.from.disease.    249\n",
       "FactorValue..high.risk.             249\n",
       "FactorValue..inss.stage.            249\n",
       "FactorValue..progression.           249\n",
       "dtype: int64"
      ]
     },
     "execution_count": 21,
     "metadata": {},
     "output_type": "execute_result"
    }
   ],
   "source": [
    "#Checking for missing data in Patient info test\n",
    "df_patient_info_test.isnull().sum()"
   ]
  },
  {
   "cell_type": "code",
   "execution_count": null,
   "metadata": {},
   "outputs": [],
   "source": []
  },
  {
   "cell_type": "code",
   "execution_count": 22,
   "metadata": {},
   "outputs": [],
   "source": [
    "#Step 1\n",
    "#Implementation of best model param (selection) code that will be utilized over the next steps\n",
    "#We are fitting FactorValue..death.from.disease. to the best model, \n",
    "#Validating the model over our train data\n",
    "#And finally implementing the model on our test data"
   ]
  },
  {
   "cell_type": "code",
   "execution_count": 23,
   "metadata": {},
   "outputs": [],
   "source": [
    "#Attributing an integer value (FactorValue..death.from.disease.) to y_train\n",
    "y_trainD = df_patient_info_train['FactorValue..death.from.disease.'].astype(int)"
   ]
  },
  {
   "cell_type": "code",
   "execution_count": 24,
   "metadata": {},
   "outputs": [],
   "source": [
    "Age_train = df_patient_info_train['FactorValue..age.at.diagnosis.']"
   ]
  },
  {
   "cell_type": "code",
   "execution_count": 25,
   "metadata": {},
   "outputs": [],
   "source": [
    "#Importing train_test_split function and split our RNA_train and y_train data and our test size is 20% of our sample\n",
    "from sklearn.model_selection import train_test_split\n",
    "X_train_D, X_test_D, y_train_D, y_test_D = train_test_split(\n",
    "    RNA_train, y_trainD, test_size=0.2, random_state=0)"
   ]
  },
  {
   "cell_type": "code",
   "execution_count": 26,
   "metadata": {},
   "outputs": [],
   "source": [
    "from sklearn.model_selection import GridSearchCV\n",
    "from sklearn.tree import DecisionTreeClassifier\n",
    "from sklearn.ensemble import RandomForestClassifier\n",
    "from sklearn.neighbors import KNeighborsClassifier\n",
    "from sklearn.svm import SVC"
   ]
  },
  {
   "cell_type": "code",
   "execution_count": 27,
   "metadata": {},
   "outputs": [],
   "source": [
    "#Model dictionary \n",
    "model_param = {\n",
    "    #Decision Tree\n",
    "    #Criterion function allows us to choose the best precision parameter\n",
    "        'DecisionTreeClassifier':{\n",
    "        'model':DecisionTreeClassifier(),\n",
    "        'param':{\n",
    "            'criterion':['gini','entropy']\n",
    "        }\n",
    "    },\n",
    "    #RandomForestClassifier\n",
    "    #n_estimators provide the number of trees you want to build before taking the maximum voting or averages of predictions\n",
    "        'RandomForestClassifier':{\n",
    "        'model':RandomForestClassifier(),\n",
    "        'param':{\n",
    "            'n_estimators':[20,50,80,120,150]\n",
    "        }\n",
    "    },\n",
    "    #KNeighborClassifier\n",
    "    #n_neighbors number of neighbors for each sample used to make predictions\n",
    "        'KNeighborsClassifier':{\n",
    "        'model':KNeighborsClassifier(),\n",
    "        'param':{\n",
    "            'n_neighbors':[5,10,15,20,25]\n",
    "        }\n",
    "    },\n",
    "    #Support Vector Classification \n",
    "    #Specifies the kernel type to be used in the algorithm.\n",
    "    #rbf (radial basis function) is the most commonly used, it is similar to the guassian distribution\n",
    "        'svc':{\n",
    "        'model':SVC(),\n",
    "        'param':{\n",
    "            'kernel':['rbf','linear','sigmoid']\n",
    "        }\n",
    "    }\n",
    "  \n",
    "    \n",
    "}"
   ]
  },
  {
   "cell_type": "code",
   "execution_count": 28,
   "metadata": {},
   "outputs": [],
   "source": [
    "#Confidence Score\n",
    "scores = []\n",
    "for model_name, mp in model_param.items():\n",
    "    model_selection = GridSearchCV(estimator=mp['model'],param_grid=mp['param'],cv=5,return_train_score=False)\n",
    "    model_selection.fit(RNA_train, y_trainD)\n",
    "    scores.append({\n",
    "        'model':model_name,\n",
    "        'best_score':model_selection.best_score_,\n",
    "        'best_param':model_selection.best_params_\n",
    "    })"
   ]
  },
  {
   "cell_type": "code",
   "execution_count": 29,
   "metadata": {},
   "outputs": [
    {
     "data": {
      "text/html": [
       "<div>\n",
       "<style scoped>\n",
       "    .dataframe tbody tr th:only-of-type {\n",
       "        vertical-align: middle;\n",
       "    }\n",
       "\n",
       "    .dataframe tbody tr th {\n",
       "        vertical-align: top;\n",
       "    }\n",
       "\n",
       "    .dataframe thead th {\n",
       "        text-align: right;\n",
       "    }\n",
       "</style>\n",
       "<table border=\"1\" class=\"dataframe\">\n",
       "  <thead>\n",
       "    <tr style=\"text-align: right;\">\n",
       "      <th></th>\n",
       "      <th>model</th>\n",
       "      <th>best_score</th>\n",
       "      <th>best_param</th>\n",
       "    </tr>\n",
       "  </thead>\n",
       "  <tbody>\n",
       "    <tr>\n",
       "      <th>0</th>\n",
       "      <td>DecisionTreeClassifier</td>\n",
       "      <td>0.791020</td>\n",
       "      <td>{'criterion': 'gini'}</td>\n",
       "    </tr>\n",
       "    <tr>\n",
       "      <th>1</th>\n",
       "      <td>RandomForestClassifier</td>\n",
       "      <td>0.819102</td>\n",
       "      <td>{'n_estimators': 120}</td>\n",
       "    </tr>\n",
       "    <tr>\n",
       "      <th>2</th>\n",
       "      <td>KNeighborsClassifier</td>\n",
       "      <td>0.798939</td>\n",
       "      <td>{'n_neighbors': 10}</td>\n",
       "    </tr>\n",
       "    <tr>\n",
       "      <th>3</th>\n",
       "      <td>svc</td>\n",
       "      <td>0.795184</td>\n",
       "      <td>{'kernel': 'rbf'}</td>\n",
       "    </tr>\n",
       "  </tbody>\n",
       "</table>\n",
       "</div>"
      ],
      "text/plain": [
       "                    model  best_score             best_param\n",
       "0  DecisionTreeClassifier    0.791020  {'criterion': 'gini'}\n",
       "1  RandomForestClassifier    0.819102  {'n_estimators': 120}\n",
       "2    KNeighborsClassifier    0.798939    {'n_neighbors': 10}\n",
       "3                     svc    0.795184      {'kernel': 'rbf'}"
      ]
     },
     "execution_count": 29,
     "metadata": {},
     "output_type": "execute_result"
    }
   ],
   "source": [
    "df_model_score = pd.DataFrame(scores,columns=['model','best_score','best_param'])\n",
    "df_model_score\n",
    "\n",
    "#RandomForestClassifier model showed to have the best score for FactorValue..death.from.disease."
   ]
  },
  {
   "cell_type": "code",
   "execution_count": 30,
   "metadata": {},
   "outputs": [],
   "source": [
    "#Validating RFC model \n",
    "model_rfcD = RandomForestClassifier(n_estimators = 80)"
   ]
  },
  {
   "cell_type": "code",
   "execution_count": 31,
   "metadata": {},
   "outputs": [
    {
     "data": {
      "text/plain": [
       "RandomForestClassifier(n_estimators=80)"
      ]
     },
     "execution_count": 31,
     "metadata": {},
     "output_type": "execute_result"
    }
   ],
   "source": [
    "model_rfcD.fit(X_train_D, y_train_D)"
   ]
  },
  {
   "cell_type": "code",
   "execution_count": 32,
   "metadata": {},
   "outputs": [
    {
     "data": {
      "text/plain": [
       "0.78"
      ]
     },
     "execution_count": 32,
     "metadata": {},
     "output_type": "execute_result"
    }
   ],
   "source": [
    "model_rfcD.score(X_test_D, y_test_D)"
   ]
  },
  {
   "cell_type": "code",
   "execution_count": 33,
   "metadata": {},
   "outputs": [
    {
     "data": {
      "text/plain": [
       "array([[35,  5],\n",
       "       [ 6,  4]])"
      ]
     },
     "execution_count": 33,
     "metadata": {},
     "output_type": "execute_result"
    }
   ],
   "source": [
    "#Visualizing RFC true/false predictions \n",
    "from sklearn.metrics import confusion_matrix\n",
    "cm = confusion_matrix(y_test_D,model_rfcD.predict(X_test_D))\n",
    "cm"
   ]
  },
  {
   "cell_type": "code",
   "execution_count": 34,
   "metadata": {},
   "outputs": [
    {
     "data": {
      "image/png": "[encoded data removed]",
      "text/plain": [
       "<Figure size 432x288 with 2 Axes>"
      ]
     },
     "metadata": {
      "needs_background": "light"
     },
     "output_type": "display_data"
    }
   ],
   "source": [
    "from matplotlib import pyplot as plt\n",
    "import seaborn as sn\n",
    "sn.heatmap(cm,annot=True)\n",
    "plt.xlabel('Predicted')\n",
    "plt.ylabel('True Value')\n",
    "plt.show()\n",
    "\n",
    "#Beige is equivalent to true positives (39 TP)\n",
    "#Purple is equivalent to false negatives (10 FN)\n",
    "#Bottom right Black is equivalent to true negatives (0 TN)\n",
    "#Top right Black is equivalent to false positives (1 FP)\n"
   ]
  },
  {
   "cell_type": "code",
   "execution_count": 36,
   "metadata": {},
   "outputs": [],
   "source": [
    "#Attributing a FactorValue..death.from.disease.value to y_test\n",
    "model_rfcD.fit(RNA_train, y_trainD)\n",
    "y_testD = df_patient_info_test['FactorValue..death.from.disease.']\n",
    "X_testD = RNA_test"
   ]
  },
  {
   "cell_type": "code",
   "execution_count": 37,
   "metadata": {},
   "outputs": [
    {
     "name": "stdout",
     "output_type": "stream",
     "text": [
      "[0 0 0 0 1 0 0 0 0 0 0 0 0 0 0 0 0 0 0 0 0 0 0 0 0 0 0 0 0 0 0 0 0 0 0 0 0\n",
      " 0 0 0 0 0 0 0 0 0 0 0 0 0 0 0 0 0 0 0 0 0 0 0 0 0 0 0 0 0 0 0 1 0 0 0 0 0\n",
      " 0 0 0 0 0 0 0 0 0 0 0 0 0 0 0 0 0 0 0 0 0 0 0 0 1 0 0 0 0 0 0 0 0 0 0 0 0\n",
      " 0 0 0 0 0 0 0 0 0 0 0 0 0 0 0 0 0 1 1 1 0 0 0 0 1 0 0 0 0 0 0 0 0 0 0 0 0\n",
      " 0 0 0 0 0 0 0 0 1 0 0 0 0 0 1 1 0 0 0 1 1 0 0 0 0 0 0 0 0 0 0 0 0 0 0 0 0\n",
      " 0 1 0 1 0 0 0 0 0 1 0 0 0 0 0 0 1 0 0 0 0 1 0 0 0 0 1 0 0 0 0 0 0 1 1 1 1\n",
      " 1 0 1 0 1 1 1 0 0 1 0 0 0 0 0 0 0 0 0 0 0 0 1 0 0 0 0]\n"
     ]
    }
   ],
   "source": [
    "death_from_disease = model_rfcD.predict(X_testD)\n",
    "print(death_from_disease)"
   ]
  },
  {
   "cell_type": "code",
   "execution_count": 38,
   "metadata": {},
   "outputs": [],
   "source": [
    "death_from_disease = pd.DataFrame(death_from_disease)\n",
    "death_from_disease.dropna().to_csv(\"death_from_disease.csv\", index=False)"
   ]
  },
  {
   "cell_type": "code",
   "execution_count": 39,
   "metadata": {},
   "outputs": [],
   "source": [
    "#Step 2\n",
    "#We are fitting FactorValue..high.risk. to the best model, \n",
    "#Validating the model over our train data\n",
    "#And finally implementing the model on our test data"
   ]
  },
  {
   "cell_type": "code",
   "execution_count": 40,
   "metadata": {},
   "outputs": [],
   "source": [
    "#Attributing an integer value (FactorValue..high.risk.) to y_train\n",
    "y_trainH = df_patient_info_train['FactorValue..high.risk.'].astype(int)"
   ]
  },
  {
   "cell_type": "code",
   "execution_count": 41,
   "metadata": {},
   "outputs": [],
   "source": [
    "#Splitting y_train, and RNA_train data and our test size is 20% of our sample\n",
    "X_train_H, X_test_H, y_train_H, y_test_H = train_test_split(\n",
    "    RNA_train, y_trainH, test_size=0.2, random_state=0)"
   ]
  },
  {
   "cell_type": "code",
   "execution_count": 42,
   "metadata": {},
   "outputs": [],
   "source": [
    "#Confidence Score\n",
    "scores = []\n",
    "for model_name, mp in model_param.items():\n",
    "    model_selection = GridSearchCV(estimator=mp['model'],param_grid=mp['param'],cv=5,return_train_score=False)\n",
    "    model_selection.fit(RNA_train, y_trainH)\n",
    "    scores.append({\n",
    "        'model':model_name,\n",
    "        'best_score':model_selection.best_score_,\n",
    "        'best_param':model_selection.best_params_\n",
    "    })"
   ]
  },
  {
   "cell_type": "code",
   "execution_count": 43,
   "metadata": {},
   "outputs": [
    {
     "data": {
      "text/html": [
       "<div>\n",
       "<style scoped>\n",
       "    .dataframe tbody tr th:only-of-type {\n",
       "        vertical-align: middle;\n",
       "    }\n",
       "\n",
       "    .dataframe tbody tr th {\n",
       "        vertical-align: top;\n",
       "    }\n",
       "\n",
       "    .dataframe thead th {\n",
       "        text-align: right;\n",
       "    }\n",
       "</style>\n",
       "<table border=\"1\" class=\"dataframe\">\n",
       "  <thead>\n",
       "    <tr style=\"text-align: right;\">\n",
       "      <th></th>\n",
       "      <th>model</th>\n",
       "      <th>best_score</th>\n",
       "      <th>best_param</th>\n",
       "    </tr>\n",
       "  </thead>\n",
       "  <tbody>\n",
       "    <tr>\n",
       "      <th>0</th>\n",
       "      <td>DecisionTreeClassifier</td>\n",
       "      <td>0.863429</td>\n",
       "      <td>{'criterion': 'entropy'}</td>\n",
       "    </tr>\n",
       "    <tr>\n",
       "      <th>1</th>\n",
       "      <td>RandomForestClassifier</td>\n",
       "      <td>0.895347</td>\n",
       "      <td>{'n_estimators': 20}</td>\n",
       "    </tr>\n",
       "    <tr>\n",
       "      <th>2</th>\n",
       "      <td>KNeighborsClassifier</td>\n",
       "      <td>0.863592</td>\n",
       "      <td>{'n_neighbors': 5}</td>\n",
       "    </tr>\n",
       "    <tr>\n",
       "      <th>3</th>\n",
       "      <td>svc</td>\n",
       "      <td>0.895510</td>\n",
       "      <td>{'kernel': 'linear'}</td>\n",
       "    </tr>\n",
       "  </tbody>\n",
       "</table>\n",
       "</div>"
      ],
      "text/plain": [
       "                    model  best_score                best_param\n",
       "0  DecisionTreeClassifier    0.863429  {'criterion': 'entropy'}\n",
       "1  RandomForestClassifier    0.895347      {'n_estimators': 20}\n",
       "2    KNeighborsClassifier    0.863592        {'n_neighbors': 5}\n",
       "3                     svc    0.895510      {'kernel': 'linear'}"
      ]
     },
     "execution_count": 43,
     "metadata": {},
     "output_type": "execute_result"
    }
   ],
   "source": [
    "df_model_score = pd.DataFrame(scores,columns=['model','best_score','best_param'])\n",
    "df_model_score\n",
    "\n",
    "#SVC model showed to have the best score for FactorValue..high.risk."
   ]
  },
  {
   "cell_type": "code",
   "execution_count": 44,
   "metadata": {},
   "outputs": [],
   "source": [
    "#Validating RFC model \n",
    "model_rfcH = RandomForestClassifier(n_estimators = 80)"
   ]
  },
  {
   "cell_type": "code",
   "execution_count": 45,
   "metadata": {},
   "outputs": [
    {
     "data": {
      "text/plain": [
       "RandomForestClassifier(n_estimators=80)"
      ]
     },
     "execution_count": 45,
     "metadata": {},
     "output_type": "execute_result"
    }
   ],
   "source": [
    "model_rfcH.fit(X_train_H, y_train_H)"
   ]
  },
  {
   "cell_type": "code",
   "execution_count": 46,
   "metadata": {},
   "outputs": [
    {
     "data": {
      "text/plain": [
       "0.92"
      ]
     },
     "execution_count": 46,
     "metadata": {},
     "output_type": "execute_result"
    }
   ],
   "source": [
    "model_rfcH.score(X_test_H, y_test_H)"
   ]
  },
  {
   "cell_type": "code",
   "execution_count": 47,
   "metadata": {},
   "outputs": [
    {
     "data": {
      "text/plain": [
       "array([[31,  2],\n",
       "       [ 2, 15]])"
      ]
     },
     "execution_count": 47,
     "metadata": {},
     "output_type": "execute_result"
    }
   ],
   "source": [
    "#Visualizing RFC true/false predictions \n",
    "from sklearn.metrics import confusion_matrix\n",
    "cm = confusion_matrix(y_test_H,model_rfcH.predict(X_test_H))\n",
    "cm"
   ]
  },
  {
   "cell_type": "code",
   "execution_count": 48,
   "metadata": {},
   "outputs": [
    {
     "data": {
      "image/png": "[encoded data removed]",
      "text/plain": [
       "<Figure size 432x288 with 2 Axes>"
      ]
     },
     "metadata": {
      "needs_background": "light"
     },
     "output_type": "display_data"
    }
   ],
   "source": [
    "from matplotlib import pyplot as plt\n",
    "import seaborn as sn\n",
    "sn.heatmap(cm,annot=True)\n",
    "plt.xlabel('Predicted')\n",
    "plt.ylabel('True Value')\n",
    "plt.show()\n",
    "\n",
    "#Beige is equivalent to true positives (29 TP)\n",
    "#Purple is equivalent to false negatives (18 FN)\n",
    "#Bottom right Black is equivalent to true negatives (2 TN)\n",
    "#Top right Black is equivalent to false positives (1 FP)"
   ]
  },
  {
   "cell_type": "code",
   "execution_count": 49,
   "metadata": {},
   "outputs": [],
   "source": [
    "#RandomForestClassifier\n",
    "#Attributing a FactorValue..FactorValue..high.risk. to y_test\n",
    "y_testH = df_patient_info_test['FactorValue..high.risk.']\n",
    "X_testH = RNA_test"
   ]
  },
  {
   "cell_type": "code",
   "execution_count": 50,
   "metadata": {},
   "outputs": [
    {
     "data": {
      "text/plain": [
       "array([1, 1, 0, 1, 1, 0, 0, 0, 0, 0, 0, 0, 0, 0, 0, 0, 0, 0, 0, 0, 0, 0,\n",
       "       0, 0, 0, 0, 0, 0, 0, 0, 0, 0, 0, 0, 0, 0, 0, 0, 0, 1, 1, 0, 0, 0,\n",
       "       1, 1, 1, 0, 0, 0, 0, 0, 0, 0, 0, 0, 0, 0, 0, 0, 1, 1, 0, 0, 0, 0,\n",
       "       0, 1, 1, 0, 0, 1, 0, 0, 0, 0, 0, 0, 0, 0, 0, 0, 0, 0, 0, 0, 0, 0,\n",
       "       0, 0, 0, 0, 0, 1, 1, 1, 1, 1, 1, 0, 0, 0, 0, 0, 0, 0, 0, 0, 0, 0,\n",
       "       1, 0, 0, 0, 0, 0, 0, 1, 0, 0, 1, 0, 0, 1, 1, 1, 1, 1, 1, 1, 1, 1,\n",
       "       1, 1, 1, 1, 0, 0, 0, 0, 0, 1, 0, 0, 0, 0, 0, 0, 0, 0, 0, 0, 0, 0,\n",
       "       0, 0, 1, 1, 0, 1, 1, 0, 1, 1, 0, 1, 1, 1, 1, 0, 0, 0, 0, 0, 0, 1,\n",
       "       1, 0, 0, 1, 0, 0, 0, 0, 0, 1, 1, 1, 1, 0, 0, 1, 1, 1, 1, 1, 0, 1,\n",
       "       0, 1, 0, 1, 1, 1, 1, 0, 1, 1, 1, 0, 1, 1, 1, 1, 0, 1, 0, 1, 1, 1,\n",
       "       1, 1, 1, 1, 1, 0, 1, 1, 1, 1, 0, 1, 1, 0, 0, 0, 0, 0, 0, 1, 0, 1,\n",
       "       1, 0, 1, 1, 0, 0, 0])"
      ]
     },
     "execution_count": 50,
     "metadata": {},
     "output_type": "execute_result"
    }
   ],
   "source": [
    "model_rfcH.predict(X_testH)"
   ]
  },
  {
   "cell_type": "code",
   "execution_count": 51,
   "metadata": {},
   "outputs": [],
   "source": [
    "#Implementing SVC\n",
    "from sklearn.svm import SVC, LinearSVC\n",
    "svc = SVC(kernel='rbf')"
   ]
  },
  {
   "cell_type": "code",
   "execution_count": 52,
   "metadata": {},
   "outputs": [
    {
     "data": {
      "text/plain": [
       "SVC()"
      ]
     },
     "execution_count": 52,
     "metadata": {},
     "output_type": "execute_result"
    }
   ],
   "source": [
    "svc.fit(X_train_H, y_train_H)"
   ]
  },
  {
   "cell_type": "code",
   "execution_count": 53,
   "metadata": {},
   "outputs": [
    {
     "name": "stdout",
     "output_type": "stream",
     "text": [
      "SVC Accuracy：\n",
      " 0.94\n"
     ]
    }
   ],
   "source": [
    "print('SVC Accuracy：\\n',svc.score(X_test_H, y_test_H))"
   ]
  },
  {
   "cell_type": "code",
   "execution_count": 54,
   "metadata": {},
   "outputs": [
    {
     "data": {
      "text/plain": [
       "array([[32,  1],\n",
       "       [ 2, 15]])"
      ]
     },
     "execution_count": 54,
     "metadata": {},
     "output_type": "execute_result"
    }
   ],
   "source": [
    "#Visualizing SVC true/false predictions \n",
    "from sklearn.metrics import confusion_matrix\n",
    "cm = confusion_matrix(y_test_H,svc.predict(X_test_H))\n",
    "cm"
   ]
  },
  {
   "cell_type": "code",
   "execution_count": 55,
   "metadata": {},
   "outputs": [
    {
     "data": {
      "image/png": "[encoded data removed]",
      "text/plain": [
       "<Figure size 432x288 with 2 Axes>"
      ]
     },
     "metadata": {
      "needs_background": "light"
     },
     "output_type": "display_data"
    }
   ],
   "source": [
    "from matplotlib import pyplot as plt\n",
    "import seaborn as sn\n",
    "sn.heatmap(cm,annot=True)\n",
    "plt.xlabel('Predicted')\n",
    "plt.ylabel('True Value')\n",
    "plt.show()\n",
    "\n",
    "#Beige is equivalent to true positives (29 TP)\n",
    "#Purple is equivalent to false negatives (19 FN)\n",
    "#Bottom right Black is equivalent to true negatives (1 TN)\n",
    "#Top right Black is equivalent to false positives (1 FP)\n"
   ]
  },
  {
   "cell_type": "code",
   "execution_count": 56,
   "metadata": {},
   "outputs": [
    {
     "data": {
      "text/plain": [
       "SVC()"
      ]
     },
     "execution_count": 56,
     "metadata": {},
     "output_type": "execute_result"
    }
   ],
   "source": [
    "svc.fit(RNA_train, y_trainH)"
   ]
  },
  {
   "cell_type": "code",
   "execution_count": 57,
   "metadata": {},
   "outputs": [
    {
     "name": "stdout",
     "output_type": "stream",
     "text": [
      "[1 1 0 1 1 0 0 0 0 0 0 0 0 0 0 0 0 0 0 0 0 0 0 0 0 0 0 0 0 0 0 0 0 0 0 0 1\n",
      " 0 0 1 1 0 0 0 0 0 1 0 0 0 0 0 0 0 0 0 0 0 0 0 1 0 0 0 0 0 0 1 1 0 0 1 0 0\n",
      " 0 0 0 0 0 0 0 0 0 0 0 0 0 0 0 0 0 0 0 1 1 0 1 1 1 0 0 0 0 0 0 0 0 0 0 0 0\n",
      " 0 0 0 0 0 0 1 0 0 1 0 0 1 0 1 1 1 1 1 1 1 1 1 1 1 0 0 0 0 0 0 0 0 0 0 0 0\n",
      " 0 0 0 0 0 0 0 0 1 1 0 1 1 0 1 1 0 1 1 1 1 0 0 0 0 0 0 0 1 0 0 1 1 0 0 0 0\n",
      " 1 1 1 1 0 0 1 0 1 1 1 0 1 0 0 0 1 1 1 1 0 1 0 1 0 1 1 1 1 1 1 0 1 1 1 1 1\n",
      " 1 1 1 0 1 1 1 1 0 1 0 0 0 0 0 0 0 1 0 1 1 0 1 1 0 0 0]\n"
     ]
    }
   ],
   "source": [
    "high_risk = svc.predict(X_testH)\n",
    "print(high_risk)"
   ]
  },
  {
   "cell_type": "code",
   "execution_count": 58,
   "metadata": {},
   "outputs": [],
   "source": [
    "high_risk = pd.DataFrame(high_risk) ###############################\n",
    "high_risk.dropna().to_csv(\"high.risk.csv\", index=False)"
   ]
  },
  {
   "cell_type": "code",
   "execution_count": 59,
   "metadata": {},
   "outputs": [],
   "source": [
    "#Step 3\n",
    "#We are fitting FactorValue..progression. to the best model, \n",
    "#Validating the model over our train data\n",
    "#And finally implementing the model on our test data"
   ]
  },
  {
   "cell_type": "code",
   "execution_count": 60,
   "metadata": {},
   "outputs": [],
   "source": [
    "#Attributing an integer value (FactorValue..progression.) to y_train\n",
    "y_trainP = df_patient_info_train['FactorValue..progression.'].astype(int)"
   ]
  },
  {
   "cell_type": "code",
   "execution_count": 61,
   "metadata": {},
   "outputs": [],
   "source": [
    "#Splitting y_train, and RNA_train data and our test size is 20% of our sample\n",
    "X_train_P, X_test_P, y_train_P, y_test_P = train_test_split(\n",
    "    RNA_train, y_trainP, test_size=0.2, random_state=0)"
   ]
  },
  {
   "cell_type": "code",
   "execution_count": 62,
   "metadata": {},
   "outputs": [],
   "source": [
    "#Confidence Score\n",
    "scores = []\n",
    "for model_name, mp in model_param.items():\n",
    "    model_selection = GridSearchCV(estimator=mp['model'],param_grid=mp['param'],cv=5,return_train_score=False)\n",
    "    model_selection.fit(RNA_train, y_trainP)\n",
    "    scores.append({\n",
    "        'model':model_name,\n",
    "        'best_score':model_selection.best_score_,\n",
    "        'best_param':model_selection.best_params_\n",
    "    })"
   ]
  },
  {
   "cell_type": "code",
   "execution_count": 63,
   "metadata": {},
   "outputs": [
    {
     "data": {
      "text/html": [
       "<div>\n",
       "<style scoped>\n",
       "    .dataframe tbody tr th:only-of-type {\n",
       "        vertical-align: middle;\n",
       "    }\n",
       "\n",
       "    .dataframe tbody tr th {\n",
       "        vertical-align: top;\n",
       "    }\n",
       "\n",
       "    .dataframe thead th {\n",
       "        text-align: right;\n",
       "    }\n",
       "</style>\n",
       "<table border=\"1\" class=\"dataframe\">\n",
       "  <thead>\n",
       "    <tr style=\"text-align: right;\">\n",
       "      <th></th>\n",
       "      <th>model</th>\n",
       "      <th>best_score</th>\n",
       "      <th>best_param</th>\n",
       "    </tr>\n",
       "  </thead>\n",
       "  <tbody>\n",
       "    <tr>\n",
       "      <th>0</th>\n",
       "      <td>DecisionTreeClassifier</td>\n",
       "      <td>0.682694</td>\n",
       "      <td>{'criterion': 'gini'}</td>\n",
       "    </tr>\n",
       "    <tr>\n",
       "      <th>1</th>\n",
       "      <td>RandomForestClassifier</td>\n",
       "      <td>0.734776</td>\n",
       "      <td>{'n_estimators': 20}</td>\n",
       "    </tr>\n",
       "    <tr>\n",
       "      <th>2</th>\n",
       "      <td>KNeighborsClassifier</td>\n",
       "      <td>0.694612</td>\n",
       "      <td>{'n_neighbors': 15}</td>\n",
       "    </tr>\n",
       "    <tr>\n",
       "      <th>3</th>\n",
       "      <td>svc</td>\n",
       "      <td>0.710857</td>\n",
       "      <td>{'kernel': 'rbf'}</td>\n",
       "    </tr>\n",
       "  </tbody>\n",
       "</table>\n",
       "</div>"
      ],
      "text/plain": [
       "                    model  best_score             best_param\n",
       "0  DecisionTreeClassifier    0.682694  {'criterion': 'gini'}\n",
       "1  RandomForestClassifier    0.734776   {'n_estimators': 20}\n",
       "2    KNeighborsClassifier    0.694612    {'n_neighbors': 15}\n",
       "3                     svc    0.710857      {'kernel': 'rbf'}"
      ]
     },
     "execution_count": 63,
     "metadata": {},
     "output_type": "execute_result"
    }
   ],
   "source": [
    "df_model_score = pd.DataFrame(scores,columns=['model','best_score','best_param'])\n",
    "df_model_score\n",
    "\n",
    "#SVC showed to be the best model fit for FactorValue..progression."
   ]
  },
  {
   "cell_type": "code",
   "execution_count": 64,
   "metadata": {},
   "outputs": [],
   "source": [
    "#RandomForestClassifier"
   ]
  },
  {
   "cell_type": "code",
   "execution_count": 65,
   "metadata": {},
   "outputs": [],
   "source": [
    "#Validating RFC model \n",
    "model_rfcP = RandomForestClassifier(n_estimators = 80)"
   ]
  },
  {
   "cell_type": "code",
   "execution_count": 66,
   "metadata": {},
   "outputs": [
    {
     "data": {
      "text/plain": [
       "RandomForestClassifier(n_estimators=80)"
      ]
     },
     "execution_count": 66,
     "metadata": {},
     "output_type": "execute_result"
    }
   ],
   "source": [
    "model_rfcP.fit(X_train_P, y_train_P)"
   ]
  },
  {
   "cell_type": "code",
   "execution_count": 67,
   "metadata": {},
   "outputs": [
    {
     "data": {
      "text/plain": [
       "0.76"
      ]
     },
     "execution_count": 67,
     "metadata": {},
     "output_type": "execute_result"
    }
   ],
   "source": [
    "model_rfcP.score(X_test_P, y_test_P)"
   ]
  },
  {
   "cell_type": "code",
   "execution_count": 68,
   "metadata": {},
   "outputs": [
    {
     "data": {
      "text/plain": [
       "array([[28,  6],\n",
       "       [ 6, 10]])"
      ]
     },
     "execution_count": 68,
     "metadata": {},
     "output_type": "execute_result"
    }
   ],
   "source": [
    "#Visualizing RFC true/false predictions \n",
    "from sklearn.metrics import confusion_matrix\n",
    "cm = confusion_matrix(y_test_P,model_rfcP.predict(X_test_P))\n",
    "cm"
   ]
  },
  {
   "cell_type": "code",
   "execution_count": 69,
   "metadata": {},
   "outputs": [
    {
     "data": {
      "image/png": "[encoded data removed]",
      "text/plain": [
       "<Figure size 432x288 with 2 Axes>"
      ]
     },
     "metadata": {
      "needs_background": "light"
     },
     "output_type": "display_data"
    }
   ],
   "source": [
    "from matplotlib import pyplot as plt\n",
    "import seaborn as sn\n",
    "sn.heatmap(cm,annot=True)\n",
    "plt.xlabel('Predicted')\n",
    "plt.ylabel('True Value')\n",
    "plt.show()\n",
    "\n",
    "#Beige is equivalent to true positives (31 TP)\n",
    "#Purple is equivalent to false negatives (14 FN)\n",
    "#Bottom right Black is equivalent to true negatives (2 TN)\n",
    "#Top right Black is equivalent to false positives (2 FP)"
   ]
  },
  {
   "cell_type": "code",
   "execution_count": 70,
   "metadata": {},
   "outputs": [],
   "source": [
    "#Attributing a FactorValue..progression.value to y_test\n",
    "y_testP = df_patient_info_test['FactorValue..progression.']\n",
    "x_testP = RNA_test"
   ]
  },
  {
   "cell_type": "code",
   "execution_count": 71,
   "metadata": {},
   "outputs": [
    {
     "data": {
      "text/plain": [
       "array([1, 1, 0, 1, 1, 0, 0, 0, 0, 0, 0, 0, 0, 0, 0, 0, 0, 0, 0, 0, 0, 0,\n",
       "       0, 0, 0, 0, 0, 0, 0, 0, 0, 0, 0, 0, 0, 0, 1, 0, 0, 1, 0, 0, 0, 0,\n",
       "       0, 1, 0, 0, 0, 0, 0, 0, 0, 0, 0, 0, 0, 0, 0, 0, 1, 1, 0, 0, 0, 0,\n",
       "       0, 1, 1, 0, 0, 1, 0, 0, 0, 0, 0, 0, 0, 0, 0, 0, 0, 0, 0, 0, 0, 0,\n",
       "       0, 0, 0, 0, 0, 1, 1, 0, 1, 1, 1, 0, 0, 0, 0, 0, 0, 0, 0, 0, 0, 0,\n",
       "       0, 0, 0, 0, 1, 0, 0, 1, 0, 0, 1, 0, 1, 1, 1, 0, 0, 1, 1, 1, 1, 1,\n",
       "       1, 1, 1, 1, 0, 0, 0, 0, 0, 1, 0, 0, 0, 1, 0, 0, 0, 0, 0, 0, 0, 0,\n",
       "       0, 1, 1, 1, 0, 1, 1, 0, 1, 1, 0, 1, 1, 1, 1, 0, 0, 0, 0, 0, 1, 0,\n",
       "       1, 0, 0, 1, 1, 0, 0, 0, 0, 1, 1, 0, 1, 1, 1, 1, 1, 1, 1, 1, 0, 1,\n",
       "       0, 0, 1, 1, 1, 1, 1, 0, 1, 1, 0, 0, 1, 1, 0, 1, 0, 0, 1, 1, 1, 1,\n",
       "       1, 1, 1, 1, 1, 0, 1, 1, 1, 1, 0, 1, 1, 0, 0, 0, 0, 0, 0, 1, 0, 0,\n",
       "       1, 1, 1, 1, 0, 0, 0])"
      ]
     },
     "execution_count": 71,
     "metadata": {},
     "output_type": "execute_result"
    }
   ],
   "source": [
    "model_rfcP.predict(x_testP)"
   ]
  },
  {
   "cell_type": "code",
   "execution_count": 72,
   "metadata": {},
   "outputs": [],
   "source": [
    "#Implementing SVC\n",
    "svcP = SVC(kernel='rbf')"
   ]
  },
  {
   "cell_type": "code",
   "execution_count": 73,
   "metadata": {},
   "outputs": [
    {
     "data": {
      "text/plain": [
       "SVC()"
      ]
     },
     "execution_count": 73,
     "metadata": {},
     "output_type": "execute_result"
    }
   ],
   "source": [
    "svcP.fit(X_train_P, y_train_P)"
   ]
  },
  {
   "cell_type": "code",
   "execution_count": 74,
   "metadata": {},
   "outputs": [
    {
     "name": "stdout",
     "output_type": "stream",
     "text": [
      "SVC Accuracy：\n",
      " 0.72\n"
     ]
    }
   ],
   "source": [
    "print('SVC Accuracy：\\n',svcP.score(X_test_P, y_test_P))"
   ]
  },
  {
   "cell_type": "code",
   "execution_count": 75,
   "metadata": {},
   "outputs": [
    {
     "data": {
      "text/plain": [
       "array([[28,  6],\n",
       "       [ 8,  8]])"
      ]
     },
     "execution_count": 75,
     "metadata": {},
     "output_type": "execute_result"
    }
   ],
   "source": [
    "#Visualizing SVC true/false predictions \n",
    "from sklearn.metrics import confusion_matrix\n",
    "cm = confusion_matrix(y_test_P,svcP.predict(X_test_P))\n",
    "cm"
   ]
  },
  {
   "cell_type": "code",
   "execution_count": 76,
   "metadata": {},
   "outputs": [
    {
     "data": {
      "image/png": "[encoded data removed]",
      "text/plain": [
       "<Figure size 432x288 with 2 Axes>"
      ]
     },
     "metadata": {
      "needs_background": "light"
     },
     "output_type": "display_data"
    }
   ],
   "source": [
    "from matplotlib import pyplot as plt\n",
    "import seaborn as sn\n",
    "sn.heatmap(cm,annot=True)\n",
    "plt.xlabel('Predicted')\n",
    "plt.ylabel('True Value')\n",
    "plt.show()\n",
    "\n",
    "#Beige is equivalent to true positives (33 TP)\n",
    "#Purple is equivalent to false negatives (15 FN)\n",
    "#Bottom right Black is equivalent to true negatives (1 TN)\n",
    "#Top right Black is equivalent to false positives (1 FP)\n"
   ]
  },
  {
   "cell_type": "code",
   "execution_count": 78,
   "metadata": {},
   "outputs": [
    {
     "name": "stdout",
     "output_type": "stream",
     "text": [
      "[0 1 0 1 1 0 0 0 0 0 0 0 0 0 0 0 0 0 0 0 0 0 0 0 0 0 0 0 0 0 0 0 0 0 0 0 0\n",
      " 0 0 1 0 0 0 0 0 0 0 0 0 0 0 0 0 0 0 0 0 0 0 0 1 0 0 0 0 0 0 1 1 0 0 1 0 0\n",
      " 0 0 0 0 0 0 0 0 0 0 0 0 0 0 0 0 0 0 0 1 1 0 1 1 1 0 0 0 0 0 0 0 0 0 0 0 0\n",
      " 0 0 0 0 0 0 1 0 0 1 0 0 1 0 0 1 1 1 1 1 0 1 1 1 1 0 0 0 0 0 1 0 0 0 0 0 0\n",
      " 1 0 0 0 0 0 0 1 1 0 0 1 1 0 1 1 0 1 0 1 1 0 0 0 0 0 0 0 1 0 0 1 1 0 0 0 0\n",
      " 1 1 1 1 0 0 0 0 1 1 1 0 0 0 0 0 1 1 1 1 0 1 0 1 0 1 1 0 1 0 1 0 1 1 1 1 1\n",
      " 1 1 1 0 1 1 1 1 0 1 0 0 0 0 0 0 0 0 0 1 1 0 1 1 0 0 0]\n"
     ]
    }
   ],
   "source": [
    "progression = svcP.predict(x_testP)\n",
    "print(progression)"
   ]
  },
  {
   "cell_type": "code",
   "execution_count": 79,
   "metadata": {},
   "outputs": [],
   "source": [
    "progression = pd.DataFrame(progression)\n",
    "progression.dropna().to_csv(\"progression.csv\", index=False)"
   ]
  },
  {
   "cell_type": "code",
   "execution_count": 80,
   "metadata": {},
   "outputs": [],
   "source": [
    "#Splitting the microarray data \n",
    "#microarray = df_prop_intensities.drop(columns=['GeneSymbols'])\n",
    "#microarray.shape"
   ]
  },
  {
   "cell_type": "code",
   "execution_count": 81,
   "metadata": {},
   "outputs": [],
   "source": [
    "#Removing odd number IDs\n",
    "#microarray_test1 = microarray.iloc[0:44708,1::2]\n",
    "\n",
    "#Transform RNASeq Data \n",
    "#microarray_test = microarray_test1.transpose()\n",
    "#microarray_test.head()"
   ]
  },
  {
   "cell_type": "code",
   "execution_count": 82,
   "metadata": {},
   "outputs": [],
   "source": [
    "#Removing even number IDs\n",
    "#microarray_train1 = microarray.iloc[0:44708,::2]\n",
    "\n",
    "#Transform RNASeq Data \n",
    "#microarray_train = microarray_train1.transpose()\n",
    "#microarray_train.head()"
   ]
  },
  {
   "cell_type": "code",
   "execution_count": 83,
   "metadata": {},
   "outputs": [],
   "source": [
    "\n",
    "#Attributing an integer value (FactorValue..iss.stage.) to y_train\n",
    "y_train4 = df_patient_info_train['FactorValue..inss.stage.']\n"
   ]
  },
  {
   "cell_type": "code",
   "execution_count": 84,
   "metadata": {},
   "outputs": [],
   "source": [
    "age = df_patient_info_train['FactorValue..age.at.diagnosis.'].astype(int)"
   ]
  },
  {
   "cell_type": "code",
   "execution_count": 85,
   "metadata": {},
   "outputs": [],
   "source": [
    "#Splitting y_train, and RNA_train data and our test size is 20% of our sample\n",
    "X_train_4, X_test_4, y_train_4, y_test_4 = train_test_split(\n",
    "    RNA_train, y_train4, test_size=0.2, random_state=0)"
   ]
  },
  {
   "cell_type": "code",
   "execution_count": 86,
   "metadata": {},
   "outputs": [],
   "source": [
    "#Confidence Score\n",
    "scores = []\n",
    "for model_name, mp in model_param.items():\n",
    "    model_selection = GridSearchCV(estimator=mp['model'],param_grid=mp['param'],cv=5,return_train_score=False)\n",
    "    model_selection.fit(RNA_train, y_train4)\n",
    "    scores.append({\n",
    "        'model':model_name,\n",
    "        'best_score':model_selection.best_score_,\n",
    "        'best_param':model_selection.best_params_\n",
    "    })"
   ]
  },
  {
   "cell_type": "code",
   "execution_count": 87,
   "metadata": {},
   "outputs": [
    {
     "data": {
      "text/html": [
       "<div>\n",
       "<style scoped>\n",
       "    .dataframe tbody tr th:only-of-type {\n",
       "        vertical-align: middle;\n",
       "    }\n",
       "\n",
       "    .dataframe tbody tr th {\n",
       "        vertical-align: top;\n",
       "    }\n",
       "\n",
       "    .dataframe thead th {\n",
       "        text-align: right;\n",
       "    }\n",
       "</style>\n",
       "<table border=\"1\" class=\"dataframe\">\n",
       "  <thead>\n",
       "    <tr style=\"text-align: right;\">\n",
       "      <th></th>\n",
       "      <th>model</th>\n",
       "      <th>best_score</th>\n",
       "      <th>best_param</th>\n",
       "    </tr>\n",
       "  </thead>\n",
       "  <tbody>\n",
       "    <tr>\n",
       "      <th>0</th>\n",
       "      <td>DecisionTreeClassifier</td>\n",
       "      <td>0.470122</td>\n",
       "      <td>{'criterion': 'entropy'}</td>\n",
       "    </tr>\n",
       "    <tr>\n",
       "      <th>1</th>\n",
       "      <td>RandomForestClassifier</td>\n",
       "      <td>0.538204</td>\n",
       "      <td>{'n_estimators': 150}</td>\n",
       "    </tr>\n",
       "    <tr>\n",
       "      <th>2</th>\n",
       "      <td>KNeighborsClassifier</td>\n",
       "      <td>0.526122</td>\n",
       "      <td>{'n_neighbors': 15}</td>\n",
       "    </tr>\n",
       "    <tr>\n",
       "      <th>3</th>\n",
       "      <td>svc</td>\n",
       "      <td>0.558286</td>\n",
       "      <td>{'kernel': 'linear'}</td>\n",
       "    </tr>\n",
       "  </tbody>\n",
       "</table>\n",
       "</div>"
      ],
      "text/plain": [
       "                    model  best_score                best_param\n",
       "0  DecisionTreeClassifier    0.470122  {'criterion': 'entropy'}\n",
       "1  RandomForestClassifier    0.538204     {'n_estimators': 150}\n",
       "2    KNeighborsClassifier    0.526122       {'n_neighbors': 15}\n",
       "3                     svc    0.558286      {'kernel': 'linear'}"
      ]
     },
     "execution_count": 87,
     "metadata": {},
     "output_type": "execute_result"
    }
   ],
   "source": [
    "df_model_score = pd.DataFrame(scores,columns=['model','best_score','best_param'])\n",
    "df_model_score\n",
    "\n",
    "#S model showed to have the best score for FactorValue..inss.stage."
   ]
  },
  {
   "cell_type": "code",
   "execution_count": 88,
   "metadata": {},
   "outputs": [],
   "source": [
    "#Validating RFC model \n",
    "model_rfc4 = RandomForestClassifier(n_estimators = 80)"
   ]
  },
  {
   "cell_type": "code",
   "execution_count": 89,
   "metadata": {},
   "outputs": [
    {
     "data": {
      "text/plain": [
       "RandomForestClassifier(n_estimators=80)"
      ]
     },
     "execution_count": 89,
     "metadata": {},
     "output_type": "execute_result"
    }
   ],
   "source": [
    "model_rfc4.fit(X_train_4, y_train_4)"
   ]
  },
  {
   "cell_type": "code",
   "execution_count": 90,
   "metadata": {},
   "outputs": [
    {
     "data": {
      "text/plain": [
       "0.46"
      ]
     },
     "execution_count": 90,
     "metadata": {},
     "output_type": "execute_result"
    }
   ],
   "source": [
    "model_rfc4.score(X_test_4, y_test_4)#######"
   ]
  },
  {
   "cell_type": "code",
   "execution_count": 91,
   "metadata": {},
   "outputs": [
    {
     "data": {
      "text/plain": [
       "array(['1', '4', '4', '1', '4S', '1', '4', '4', '4', '4', '1', '4', '2',\n",
       "       '4', '4', '4', '2', '1', '4', '2', '4', '4', '1', '1', '2', '4',\n",
       "       '2', '1', '2', '4S', '4', '1', '4', '1', '4', '1', '1', '4', '1',\n",
       "       '1', '4', '4', '1', '4', '2', '1', '4', '4', '4', '4'],\n",
       "      dtype=object)"
      ]
     },
     "execution_count": 91,
     "metadata": {},
     "output_type": "execute_result"
    }
   ],
   "source": [
    "model_rfc4.predict(X_test_4)"
   ]
  },
  {
   "cell_type": "code",
   "execution_count": 92,
   "metadata": {},
   "outputs": [
    {
     "data": {
      "text/plain": [
       "array([[ 5,  2,  0,  4,  0],\n",
       "       [ 5,  2,  0,  2,  1],\n",
       "       [ 5,  2,  0,  3,  0],\n",
       "       [ 0,  1,  0, 15,  0],\n",
       "       [ 1,  0,  0,  1,  1]])"
      ]
     },
     "execution_count": 92,
     "metadata": {},
     "output_type": "execute_result"
    }
   ],
   "source": [
    "#Visualizing RFC true/false predictions \n",
    "from sklearn.metrics import confusion_matrix\n",
    "cm = confusion_matrix(y_test_4,model_rfc4.predict(X_test_4))\n",
    "cm"
   ]
  },
  {
   "cell_type": "code",
   "execution_count": 93,
   "metadata": {},
   "outputs": [
    {
     "data": {
      "image/png": "[encoded data removed]",
      "text/plain": [
       "<Figure size 432x288 with 2 Axes>"
      ]
     },
     "metadata": {
      "needs_background": "light"
     },
     "output_type": "display_data"
    }
   ],
   "source": [
    "from matplotlib import pyplot as plt\n",
    "import seaborn as sn\n",
    "sn.heatmap(cm,annot=True)\n",
    "plt.xlabel('Predicted')\n",
    "plt.ylabel('True Value')\n",
    "plt.show()\n",
    "\n",
    "#Predictions\n",
    "#0 (Stage 1) we have 7 true positives\n",
    "#1 (th)"
   ]
  },
  {
   "cell_type": "code",
   "execution_count": 94,
   "metadata": {},
   "outputs": [
    {
     "data": {
      "text/plain": [
       "RandomForestClassifier(n_estimators=80)"
      ]
     },
     "execution_count": 94,
     "metadata": {},
     "output_type": "execute_result"
    }
   ],
   "source": [
    "model_rfc4.fit(RNA_train, y_train4)"
   ]
  },
  {
   "cell_type": "code",
   "execution_count": 95,
   "metadata": {},
   "outputs": [
    {
     "name": "stdout",
     "output_type": "stream",
     "text": [
      "['4' '4' '4' '4' '4' '2' '1' '2' '1' '1' '1' '2' '1' '1' '1' '1' '1' '1'\n",
      " '1' '1' '1' '2' '1' '2' '1' '1' '1' '1' '1' '1' '1' '1' '1' '1' '1' '2'\n",
      " '4' '2' '1' '4' '4' '2' '4' '4' '4' '4' '4' '1' '2' '1' '1' '2' '1' '1'\n",
      " '1' '1' '2' '1' '1' '2' '4' '4' '1' '1' '2' '1' '1' '4' '4' '4' '1' '4'\n",
      " '1' '1' '2' '4S' '1' '2' '1' '1' '1' '2' '2' '4S' '4S' '2' '1' '4' '1'\n",
      " '1' '2' '2' '4' '4' '4' '4' '4' '4' '4' '1' '1' '4' '2' '1' '1' '1' '4'\n",
      " '4' '1' '1' '4' '2' '1' '1' '3' '1' '1' '4' '4' '4' '4' '1' '4' '4' '4'\n",
      " '4' '4' '4' '4' '4' '4' '4' '4' '4' '4' '4' '1' '1' '4' '2' '4S' '4' '1'\n",
      " '4S' '4S' '4S' '1' '4S' '4' '1' '4' '1' '1' '4S' '4S' '4' '4' '4' '1' '4'\n",
      " '4' '1' '4' '4' '2' '4' '4' '4' '4' '1' '1' '1' '1' '1' '2' '4' '4' '1'\n",
      " '3' '4' '4' '1' '4' '1' '4S' '4' '4' '4' '4' '4' '4' '4' '4' '4' '4' '4'\n",
      " '4' '4' '1' '4' '4' '4' '4' '4' '4' '1' '4' '4' '4' '1' '4' '4' '4' '4'\n",
      " '4' '4' '4' '4' '4' '4' '4' '4' '4' '4' '4' '4' '4' '4' '4' '4' '2' '4'\n",
      " '4' '4' '1' '4' '4S' '1' '4' '4' '1' '4' '4' '4' '4' '4' '1' '4S' '4']\n"
     ]
    }
   ],
   "source": [
    "inss_stage = model_rfc4.predict(RNA_test)\n",
    "print(inss_stage)"
   ]
  },
  {
   "cell_type": "code",
   "execution_count": 96,
   "metadata": {},
   "outputs": [],
   "source": [
    "inss_stage = pd.DataFrame(inss_stage)\n",
    "inss_stage.dropna().to_csv(\"inss_stage.csv\", index=False)"
   ]
  },
  {
   "cell_type": "code",
   "execution_count": null,
   "metadata": {},
   "outputs": [],
   "source": []
  },
  {
   "cell_type": "code",
   "execution_count": 113,
   "metadata": {},
   "outputs": [],
   "source": [
    "#Implementing SVC\n",
    "svc4 = SVC(kernel='linear')"
   ]
  },
  {
   "cell_type": "code",
   "execution_count": 114,
   "metadata": {},
   "outputs": [
    {
     "data": {
      "text/plain": [
       "SVC(kernel='linear')"
      ]
     },
     "execution_count": 114,
     "metadata": {},
     "output_type": "execute_result"
    }
   ],
   "source": [
    "svc4.fit(X_train_4, y_train_4)"
   ]
  },
  {
   "cell_type": "code",
   "execution_count": 115,
   "metadata": {},
   "outputs": [
    {
     "name": "stdout",
     "output_type": "stream",
     "text": [
      "SVC Accuracy：\n",
      " 0.44\n"
     ]
    }
   ],
   "source": [
    "print('SVC Accuracy：\\n',svc4.score(X_test_4, y_test_4))"
   ]
  },
  {
   "cell_type": "code",
   "execution_count": 116,
   "metadata": {},
   "outputs": [
    {
     "data": {
      "text/plain": [
       "array([[ 4,  3,  1,  3,  0],\n",
       "       [ 5,  2,  2,  0,  1],\n",
       "       [ 5,  0,  1,  3,  1],\n",
       "       [ 0,  1,  1, 13,  1],\n",
       "       [ 1,  0,  0,  0,  2]])"
      ]
     },
     "execution_count": 116,
     "metadata": {},
     "output_type": "execute_result"
    }
   ],
   "source": [
    "#Visualizing SVC true/false predictions \n",
    "from sklearn.metrics import confusion_matrix\n",
    "cm = confusion_matrix(y_test_4,svc4.predict(X_test_4))\n",
    "cm"
   ]
  },
  {
   "cell_type": "code",
   "execution_count": 117,
   "metadata": {},
   "outputs": [
    {
     "data": {
      "image/png": "[encoded data removed]",
      "text/plain": [
       "<Figure size 432x288 with 2 Axes>"
      ]
     },
     "metadata": {
      "needs_background": "light"
     },
     "output_type": "display_data"
    }
   ],
   "source": [
    "from matplotlib import pyplot as plt\n",
    "import seaborn as sn\n",
    "sn.heatmap(cm,annot=True)\n",
    "plt.xlabel('Predicted')\n",
    "plt.ylabel('True Value')\n",
    "plt.show()\n",
    "\n",
    "#Beige is equivalent to true positives (33 TP)\n",
    "#Purple is equivalent to false negatives (15 FN)\n",
    "#Bottom right Black is equivalent to true negatives (1 TN)\n",
    "#Top right Black is equivalent to false positives (1 FP)\n"
   ]
  },
  {
   "cell_type": "code",
   "execution_count": 119,
   "metadata": {},
   "outputs": [
    {
     "name": "stdout",
     "output_type": "stream",
     "text": [
      "['4' '4S' '4S' '4' '4' '2' '1' '1' '1' '1' '2' '1' '1' '1' '2' '1' '1' '1'\n",
      " '1' '1' '1' '1' '1' '2' '1' '1' '2' '1' '1' '2' '1' '2' '3' '1' '1' '1'\n",
      " '4S' '2' '1' '4' '4' '2' '4' '1' '2' '4' '4' '1' '2' '2' '2' '2' '1' '2'\n",
      " '1' '1' '2' '2' '1' '2' '4' '4S' '1' '3' '2' '1' '1' '4' '4' '4' '3' '4'\n",
      " '4S' '3' '2' '1' '1' '2' '1' '2' '4' '2' '4S' '4S' '4S' '2' '2' '4' '2'\n",
      " '3' '1' '2' '2' '4' '4' '4' '4' '4' '4' '1' '1' '4S' '4S' '1' '1' '2' '1'\n",
      " '1' '2' '1' '4' '1' '1' '3' '2' '4S' '3' '4' '4' '4S' '4' '1' '4' '4' '4'\n",
      " '3' '3' '4' '4' '3' '4' '3' '4' '4' '4' '4' '2' '1' '4S' '4S' '4S' '4S'\n",
      " '4S' '4S' '4' '4S' '1' '4S' '4S' '1' '2' '3' '1' '4S' '4S' '4S' '4S' '4S'\n",
      " '1' '4' '4' '1' '4' '4' '2' '4' '4' '4' '4' '1' '1' '1' '3' '1' '3' '4'\n",
      " '4S' '1' '4S' '4' '4' '4S' '1' '1' '4S' '4' '4' '4' '4' '1' '1' '4' '4'\n",
      " '4' '4' '4' '4' '4' '2' '4' '4' '2' '4' '4' '4' '1' '4' '4' '4' '1' '4'\n",
      " '4' '4' '4' '4' '4' '4' '4' '4' '4' '4' '4' '4' '4' '4' '3' '4' '4' '4'\n",
      " '4' '3' '4' '4' '2' '1' '2' '4S' '1' '4' '4' '4' '4' '4' '4S' '4' '4' '1'\n",
      " '4S' '4']\n"
     ]
    }
   ],
   "source": [
    "INSS_Stage = svc4.predict(RNA_test)\n",
    "print(INSS_Stage)"
   ]
  },
  {
   "cell_type": "code",
   "execution_count": 79,
   "metadata": {},
   "outputs": [],
   "source": [
    "INSS_Stage = pd.DataFrame(INSS_Stage)\n",
    "INSS_Stage.dropna().to_csv(\"INSS_S.csv\", index=False)"
   ]
  },
  {
   "cell_type": "code",
   "execution_count": 79,
   "metadata": {},
   "outputs": [],
   "source": []
  },
  {
   "cell_type": "code",
   "execution_count": 97,
   "metadata": {},
   "outputs": [
    {
     "ename": "NameError",
     "evalue": "name 'model_rfc' is not defined",
     "output_type": "error",
     "traceback": [
      "\u001b[0;31m---------------------------------------------------------------------------\u001b[0m",
      "\u001b[0;31mNameError\u001b[0m                                 Traceback (most recent call last)",
      "\u001b[0;32m<ipython-input-97-bb26b24d53b1>\u001b[0m in \u001b[0;36m<module>\u001b[0;34m\u001b[0m\n\u001b[1;32m      2\u001b[0m \u001b[0;31m#create a \"save\" folder in the working directory\u001b[0m\u001b[0;34m\u001b[0m\u001b[0;34m\u001b[0m\u001b[0;34m\u001b[0m\u001b[0m\n\u001b[1;32m      3\u001b[0m \u001b[0;32mimport\u001b[0m \u001b[0mjoblib\u001b[0m\u001b[0;34m\u001b[0m\u001b[0;34m\u001b[0m\u001b[0m\n\u001b[0;32m----> 4\u001b[0;31m \u001b[0mjoblib\u001b[0m\u001b[0;34m.\u001b[0m\u001b[0mdump\u001b[0m\u001b[0;34m(\u001b[0m\u001b[0mmodel_rfc\u001b[0m\u001b[0;34m,\u001b[0m\u001b[0;34m'save/inss_stage.m'\u001b[0m\u001b[0;34m)\u001b[0m\u001b[0;34m\u001b[0m\u001b[0;34m\u001b[0m\u001b[0m\n\u001b[0m",
      "\u001b[0;31mNameError\u001b[0m: name 'model_rfc' is not defined"
     ]
    }
   ],
   "source": [
    "#save module\n",
    "#create a \"save\" folder in the working directory\n",
    "import joblib\n",
    "joblib.dump(model_rfc,'save/inss_stage.m')"
   ]
  },
  {
   "cell_type": "code",
   "execution_count": null,
   "metadata": {},
   "outputs": [],
   "source": [
    "#restore\n",
    "model_rfc2 = joblib.load('save/inss_stage.m')"
   ]
  },
  {
   "cell_type": "code",
   "execution_count": null,
   "metadata": {},
   "outputs": [],
   "source": [
    "#use the module\n",
    "z=model_rfc2.predict(RNA_test)"
   ]
  },
  {
   "cell_type": "code",
   "execution_count": 106,
   "metadata": {},
   "outputs": [],
   "source": [
    "df_patient_info_test_predictions = pd.DataFrame(index=df_patient_info_test.index)"
   ]
  },
  {
   "cell_type": "code",
   "execution_count": 107,
   "metadata": {},
   "outputs": [],
   "source": [
    "endpointD = 'FactorValue..death.from.disease.'"
   ]
  },
  {
   "cell_type": "code",
   "execution_count": 108,
   "metadata": {},
   "outputs": [],
   "source": [
    "endpointH = 'FactorValue..high.risk.'"
   ]
  },
  {
   "cell_type": "code",
   "execution_count": 109,
   "metadata": {},
   "outputs": [],
   "source": [
    "endpoint4 = 'FactorValue..inss.stage.'"
   ]
  },
  {
   "cell_type": "code",
   "execution_count": 110,
   "metadata": {},
   "outputs": [],
   "source": [
    "endpointP = 'FactorValue..progression.'"
   ]
  },
  {
   "cell_type": "code",
   "execution_count": 121,
   "metadata": {},
   "outputs": [
    {
     "data": {
      "text/html": [
       "<div>\n",
       "<style scoped>\n",
       "    .dataframe tbody tr th:only-of-type {\n",
       "        vertical-align: middle;\n",
       "    }\n",
       "\n",
       "    .dataframe tbody tr th {\n",
       "        vertical-align: top;\n",
       "    }\n",
       "\n",
       "    .dataframe thead th {\n",
       "        text-align: right;\n",
       "    }\n",
       "</style>\n",
       "<table border=\"1\" class=\"dataframe\">\n",
       "  <thead>\n",
       "    <tr style=\"text-align: right;\">\n",
       "      <th></th>\n",
       "      <th>FactorValue..death.from.disease.prediction</th>\n",
       "      <th>FactorValue..high.risk.prediction</th>\n",
       "      <th>FactorValue..inss.stage.prediction</th>\n",
       "      <th>FactorValue..progression.prediction</th>\n",
       "    </tr>\n",
       "    <tr>\n",
       "      <th>ID</th>\n",
       "      <th></th>\n",
       "      <th></th>\n",
       "      <th></th>\n",
       "      <th></th>\n",
       "    </tr>\n",
       "  </thead>\n",
       "  <tbody>\n",
       "    <tr>\n",
       "      <th>NB002</th>\n",
       "      <td>0</td>\n",
       "      <td>1</td>\n",
       "      <td>4</td>\n",
       "      <td>1</td>\n",
       "    </tr>\n",
       "    <tr>\n",
       "      <th>NB004</th>\n",
       "      <td>0</td>\n",
       "      <td>1</td>\n",
       "      <td>4S</td>\n",
       "      <td>1</td>\n",
       "    </tr>\n",
       "    <tr>\n",
       "      <th>NB006</th>\n",
       "      <td>0</td>\n",
       "      <td>0</td>\n",
       "      <td>4S</td>\n",
       "      <td>0</td>\n",
       "    </tr>\n",
       "    <tr>\n",
       "      <th>NB008</th>\n",
       "      <td>0</td>\n",
       "      <td>1</td>\n",
       "      <td>4</td>\n",
       "      <td>1</td>\n",
       "    </tr>\n",
       "    <tr>\n",
       "      <th>NB010</th>\n",
       "      <td>1</td>\n",
       "      <td>1</td>\n",
       "      <td>4</td>\n",
       "      <td>1</td>\n",
       "    </tr>\n",
       "    <tr>\n",
       "      <th>NB012</th>\n",
       "      <td>0</td>\n",
       "      <td>0</td>\n",
       "      <td>2</td>\n",
       "      <td>0</td>\n",
       "    </tr>\n",
       "    <tr>\n",
       "      <th>NB014</th>\n",
       "      <td>0</td>\n",
       "      <td>0</td>\n",
       "      <td>1</td>\n",
       "      <td>0</td>\n",
       "    </tr>\n",
       "    <tr>\n",
       "      <th>NB016</th>\n",
       "      <td>0</td>\n",
       "      <td>0</td>\n",
       "      <td>1</td>\n",
       "      <td>0</td>\n",
       "    </tr>\n",
       "    <tr>\n",
       "      <th>NB018</th>\n",
       "      <td>0</td>\n",
       "      <td>0</td>\n",
       "      <td>1</td>\n",
       "      <td>0</td>\n",
       "    </tr>\n",
       "    <tr>\n",
       "      <th>NB020</th>\n",
       "      <td>0</td>\n",
       "      <td>0</td>\n",
       "      <td>1</td>\n",
       "      <td>0</td>\n",
       "    </tr>\n",
       "  </tbody>\n",
       "</table>\n",
       "</div>"
      ],
      "text/plain": [
       "       FactorValue..death.from.disease.prediction  \\\n",
       "ID                                                  \n",
       "NB002                                           0   \n",
       "NB004                                           0   \n",
       "NB006                                           0   \n",
       "NB008                                           0   \n",
       "NB010                                           1   \n",
       "NB012                                           0   \n",
       "NB014                                           0   \n",
       "NB016                                           0   \n",
       "NB018                                           0   \n",
       "NB020                                           0   \n",
       "\n",
       "       FactorValue..high.risk.prediction FactorValue..inss.stage.prediction  \\\n",
       "ID                                                                            \n",
       "NB002                                  1                                  4   \n",
       "NB004                                  1                                 4S   \n",
       "NB006                                  0                                 4S   \n",
       "NB008                                  1                                  4   \n",
       "NB010                                  1                                  4   \n",
       "NB012                                  0                                  2   \n",
       "NB014                                  0                                  1   \n",
       "NB016                                  0                                  1   \n",
       "NB018                                  0                                  1   \n",
       "NB020                                  0                                  1   \n",
       "\n",
       "       FactorValue..progression.prediction  \n",
       "ID                                          \n",
       "NB002                                    1  \n",
       "NB004                                    1  \n",
       "NB006                                    0  \n",
       "NB008                                    1  \n",
       "NB010                                    1  \n",
       "NB012                                    0  \n",
       "NB014                                    0  \n",
       "NB016                                    0  \n",
       "NB018                                    0  \n",
       "NB020                                    0  "
      ]
     },
     "execution_count": 121,
     "metadata": {},
     "output_type": "execute_result"
    }
   ],
   "source": [
    "# predict death for the test set patients\n",
    "df_patient_info_test_predictions.loc[RNA_test.index,'{}prediction'.format(endpointD)]  = model_rfcD.predict(RNA_test)\n",
    "#predict high risk\n",
    "df_patient_info_test_predictions.loc[RNA_test.index,'{}prediction'.format(endpointH)]  = svc.predict(RNA_test)\n",
    "#predict INSS stage\n",
    "df_patient_info_test_predictions.loc[RNA_test.index,'{}prediction'.format(endpoint4)]  = svc4.predict(RNA_test)\n",
    "#predict progression\n",
    "df_patient_info_test_predictions.loc[RNA_test.index,'{}prediction'.format(endpointP)]  = model_rfcP.predict(RNA_test)\n",
    "\n",
    "\n",
    "df_patient_info_test_predictions.head(10)\n"
   ]
  },
  {
   "cell_type": "code",
   "execution_count": 123,
   "metadata": {},
   "outputs": [],
   "source": [
    "def save_predictions(df_patient_info_test_predictions,group_number=6,data_origin='undefined',output_dir='predictions'):\n",
    "    # check for correct group number\n",
    "    if not (group_number > 0 and group_number<6):\n",
    "        raise Exception('Wrong group number')\n",
    "    # check for allowed data origin\n",
    "    if data_origin not in ['mirocarray', 'rnaseq', 'other']:\n",
    "        raise Exception(\"data_origin can only be one of 'mirocarray', 'rnaseq' or 'other'\")\n",
    "\n",
    "    # check if outout_dir exists - if not create - if permission do not allow that, this raises an error\n",
    "    if not os.path.exists(output_dir):\n",
    "        os.makedirs(output_dir)\n",
    "\n",
    "    outfile_name = 'msc_bio_m3_group_{}_data_{}.tsv'.format(str(group_number).zfill(2),data_origin)\n",
    "    full_outfile_path = '{}{}{}'.format(output_dir,os.path.sep,outfile_name)\n",
    "    dataframe.to_csv(full_outfile_path,sep='\\t')\n",
    "    return full_outfile_path"
   ]
  },
  {
   "cell_type": "code",
   "execution_count": null,
   "metadata": {},
   "outputs": [],
   "source": []
  }
 ],
 "metadata": {
  "kernelspec": {
   "display_name": "Python 3.8 [python/3.8]",
   "language": "python",
   "name": "sys_python38"
  },
  "language_info": {
   "codemirror_mode": {
    "name": "ipython",
    "version": 3
   },
   "file_extension": ".py",
   "mimetype": "text/x-python",
   "name": "python",
   "nbconvert_exporter": "python",
   "pygments_lexer": "ipython3",
   "version": "3.8.2"
  }
 },
 "nbformat": 4,
 "nbformat_minor": 4
}
